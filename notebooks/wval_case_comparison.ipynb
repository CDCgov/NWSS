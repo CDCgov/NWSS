{
 "cells": [
  {
   "cell_type": "markdown",
   "metadata": {},
   "source": [
    "# State SARS-Cov-2 WVAL and COVID-19 Cases Comparison\n",
    "This notebook compares Wastewater Viral Activity Levels (WVALs) for SARS-CoV-2 (SC2) with COVID-19 Cases from publicly available data.\n",
    "This is intended as a template for users who wish to perform their own analyses on the new WVAL metric."
   ]
  },
  {
   "cell_type": "markdown",
   "metadata": {},
   "source": [
    "## Imports"
   ]
  },
  {
   "cell_type": "code",
   "execution_count": 127,
   "metadata": {},
   "outputs": [],
   "source": [
    "import pandas as pd \n",
    "import numpy as np "
   ]
  },
  {
   "cell_type": "markdown",
   "metadata": {},
   "source": [
    "Importing the public cases dataset (Weekly United States COVID-19 Cases and Deaths by State - ARCHIVED) from [data.cdc.gov](https://data.cdc.gov/Case-Surveillance/Weekly-United-States-COVID-19-Cases-and-Deaths-by-/pwn4-m3yp/about_data)\n",
    "\n",
    "We'll use the code from the API documentation for data.cdc.gov."
   ]
  },
  {
   "cell_type": "code",
   "execution_count": 157,
   "metadata": {},
   "outputs": [
    {
     "name": "stdout",
     "output_type": "stream",
     "text": [
      "Collecting sodapy\n",
      "  Downloading sodapy-2.2.0-py2.py3-none-any.whl (15 kB)\n",
      "Requirement already satisfied: requests>=2.28.1 in /home/codespace/.local/lib/python3.10/site-packages (from sodapy) (2.31.0)\n",
      "Requirement already satisfied: charset-normalizer<4,>=2 in /home/codespace/.local/lib/python3.10/site-packages (from requests>=2.28.1->sodapy) (3.3.2)\n",
      "Requirement already satisfied: idna<4,>=2.5 in /home/codespace/.local/lib/python3.10/site-packages (from requests>=2.28.1->sodapy) (3.4)\n",
      "Requirement already satisfied: urllib3<3,>=1.21.1 in /usr/local/python/3.10.13/lib/python3.10/site-packages (from requests>=2.28.1->sodapy) (2.0.7)\n",
      "Requirement already satisfied: certifi>=2017.4.17 in /home/codespace/.local/lib/python3.10/site-packages (from requests>=2.28.1->sodapy) (2023.7.22)\n",
      "Installing collected packages: sodapy\n",
      "Successfully installed sodapy-2.2.0\n",
      "Note: you may need to restart the kernel to use updated packages.\n"
     ]
    }
   ],
   "source": [
    "# %pip install sodapy"
   ]
  },
  {
   "cell_type": "code",
   "execution_count": 158,
   "metadata": {},
   "outputs": [
    {
     "name": "stderr",
     "output_type": "stream",
     "text": [
      "WARNING:root:Requests made without an app_token will be subject to strict throttling limits.\n"
     ]
    },
    {
     "data": {
      "text/html": [
       "<div>\n",
       "<style scoped>\n",
       "    .dataframe tbody tr th:only-of-type {\n",
       "        vertical-align: middle;\n",
       "    }\n",
       "\n",
       "    .dataframe tbody tr th {\n",
       "        vertical-align: top;\n",
       "    }\n",
       "\n",
       "    .dataframe thead th {\n",
       "        text-align: right;\n",
       "    }\n",
       "</style>\n",
       "<table border=\"1\" class=\"dataframe\">\n",
       "  <thead>\n",
       "    <tr style=\"text-align: right;\">\n",
       "      <th></th>\n",
       "      <th>date_updated</th>\n",
       "      <th>state</th>\n",
       "      <th>start_date</th>\n",
       "      <th>end_date</th>\n",
       "      <th>tot_cases</th>\n",
       "      <th>new_cases</th>\n",
       "      <th>tot_deaths</th>\n",
       "      <th>new_deaths</th>\n",
       "      <th>new_historic_cases</th>\n",
       "      <th>new_historic_deaths</th>\n",
       "    </tr>\n",
       "  </thead>\n",
       "  <tbody>\n",
       "    <tr>\n",
       "      <th>0</th>\n",
       "      <td>2023-02-23T00:00:00.000</td>\n",
       "      <td>AZ</td>\n",
       "      <td>2023-02-16T00:00:00.000</td>\n",
       "      <td>2023-02-22T00:00:00.000</td>\n",
       "      <td>2434631.0</td>\n",
       "      <td>3716.0</td>\n",
       "      <td>33042.0</td>\n",
       "      <td>39.0</td>\n",
       "      <td>23150</td>\n",
       "      <td>0</td>\n",
       "    </tr>\n",
       "    <tr>\n",
       "      <th>1</th>\n",
       "      <td>2022-12-22T00:00:00.000</td>\n",
       "      <td>LA</td>\n",
       "      <td>2022-12-15T00:00:00.000</td>\n",
       "      <td>2022-12-21T00:00:00.000</td>\n",
       "      <td>1507707.0</td>\n",
       "      <td>4041.0</td>\n",
       "      <td>18345.0</td>\n",
       "      <td>21.0</td>\n",
       "      <td>21397</td>\n",
       "      <td>0</td>\n",
       "    </tr>\n",
       "    <tr>\n",
       "      <th>2</th>\n",
       "      <td>2023-02-23T00:00:00.000</td>\n",
       "      <td>GA</td>\n",
       "      <td>2023-02-16T00:00:00.000</td>\n",
       "      <td>2023-02-22T00:00:00.000</td>\n",
       "      <td>3061141.0</td>\n",
       "      <td>5298.0</td>\n",
       "      <td>42324.0</td>\n",
       "      <td>88.0</td>\n",
       "      <td>6800</td>\n",
       "      <td>0</td>\n",
       "    </tr>\n",
       "    <tr>\n",
       "      <th>3</th>\n",
       "      <td>2023-03-30T00:00:00.000</td>\n",
       "      <td>LA</td>\n",
       "      <td>2023-03-23T00:00:00.000</td>\n",
       "      <td>2023-03-29T00:00:00.000</td>\n",
       "      <td>1588259.0</td>\n",
       "      <td>2203.0</td>\n",
       "      <td>18858.0</td>\n",
       "      <td>23.0</td>\n",
       "      <td>5347</td>\n",
       "      <td>0</td>\n",
       "    </tr>\n",
       "    <tr>\n",
       "      <th>4</th>\n",
       "      <td>2023-02-02T00:00:00.000</td>\n",
       "      <td>LA</td>\n",
       "      <td>2023-01-26T00:00:00.000</td>\n",
       "      <td>2023-02-01T00:00:00.000</td>\n",
       "      <td>1548508.0</td>\n",
       "      <td>5725.0</td>\n",
       "      <td>18572.0</td>\n",
       "      <td>47.0</td>\n",
       "      <td>4507</td>\n",
       "      <td>0</td>\n",
       "    </tr>\n",
       "  </tbody>\n",
       "</table>\n",
       "</div>"
      ],
      "text/plain": [
       "              date_updated state               start_date  \\\n",
       "0  2023-02-23T00:00:00.000    AZ  2023-02-16T00:00:00.000   \n",
       "1  2022-12-22T00:00:00.000    LA  2022-12-15T00:00:00.000   \n",
       "2  2023-02-23T00:00:00.000    GA  2023-02-16T00:00:00.000   \n",
       "3  2023-03-30T00:00:00.000    LA  2023-03-23T00:00:00.000   \n",
       "4  2023-02-02T00:00:00.000    LA  2023-01-26T00:00:00.000   \n",
       "\n",
       "                  end_date  tot_cases new_cases tot_deaths new_deaths  \\\n",
       "0  2023-02-22T00:00:00.000  2434631.0    3716.0    33042.0       39.0   \n",
       "1  2022-12-21T00:00:00.000  1507707.0    4041.0    18345.0       21.0   \n",
       "2  2023-02-22T00:00:00.000  3061141.0    5298.0    42324.0       88.0   \n",
       "3  2023-03-29T00:00:00.000  1588259.0    2203.0    18858.0       23.0   \n",
       "4  2023-02-01T00:00:00.000  1548508.0    5725.0    18572.0       47.0   \n",
       "\n",
       "  new_historic_cases new_historic_deaths  \n",
       "0              23150                   0  \n",
       "1              21397                   0  \n",
       "2               6800                   0  \n",
       "3               5347                   0  \n",
       "4               4507                   0  "
      ]
     },
     "execution_count": 158,
     "metadata": {},
     "output_type": "execute_result"
    }
   ],
   "source": [
    "from sodapy import Socrata\n",
    "\n",
    "# Unauthenticated client only works with public data sets. Note 'None'\n",
    "# in place of application token, and no username or password:\n",
    "client = Socrata(\"data.cdc.gov\", None)\n",
    "\n",
    "results = client.get(\"pwn4-m3yp\", limit=12000)\n",
    "\n",
    "# Convert to pandas DataFrame\n",
    "cases_df = pd.DataFrame.from_records(results)\n",
    "\n",
    "cases_df.head()"
   ]
  },
  {
   "cell_type": "code",
   "execution_count": 159,
   "metadata": {},
   "outputs": [
    {
     "data": {
      "text/plain": [
       "10380"
      ]
     },
     "execution_count": 159,
     "metadata": {},
     "output_type": "execute_result"
    }
   ],
   "source": [
    "len(cases_df)"
   ]
  },
  {
   "cell_type": "markdown",
   "metadata": {},
   "source": [
    "Importing the state WVAL data shown on the [State and Territory Trends Dashboard](https://www.cdc.gov/nwss/rv/COVID19-statetrend.html)."
   ]
  },
  {
   "cell_type": "code",
   "execution_count": 160,
   "metadata": {},
   "outputs": [
    {
     "data": {
      "text/html": [
       "<div>\n",
       "<style scoped>\n",
       "    .dataframe tbody tr th:only-of-type {\n",
       "        vertical-align: middle;\n",
       "    }\n",
       "\n",
       "    .dataframe tbody tr th {\n",
       "        vertical-align: top;\n",
       "    }\n",
       "\n",
       "    .dataframe thead th {\n",
       "        text-align: right;\n",
       "    }\n",
       "</style>\n",
       "<table border=\"1\" class=\"dataframe\">\n",
       "  <thead>\n",
       "    <tr style=\"text-align: right;\">\n",
       "      <th></th>\n",
       "      <th>date</th>\n",
       "      <th>date_period</th>\n",
       "      <th>State</th>\n",
       "      <th>value</th>\n",
       "      <th>national_value</th>\n",
       "      <th>region_value</th>\n",
       "    </tr>\n",
       "  </thead>\n",
       "  <tbody>\n",
       "    <tr>\n",
       "      <th>0</th>\n",
       "      <td>2022-01-01</td>\n",
       "      <td>All Results</td>\n",
       "      <td>Michigan</td>\n",
       "      <td>14.305279825535322</td>\n",
       "      <td>17.912300475962088</td>\n",
       "      <td>20.688484818204877</td>\n",
       "    </tr>\n",
       "    <tr>\n",
       "      <th>1</th>\n",
       "      <td>2022-01-01</td>\n",
       "      <td>All Results</td>\n",
       "      <td>Illinois</td>\n",
       "      <td>11.497446593582922</td>\n",
       "      <td>17.912300475962088</td>\n",
       "      <td>20.688484818204877</td>\n",
       "    </tr>\n",
       "    <tr>\n",
       "      <th>2</th>\n",
       "      <td>2022-01-01</td>\n",
       "      <td>All Results</td>\n",
       "      <td>Idaho</td>\n",
       "      <td>23.495124167551566</td>\n",
       "      <td>17.912300475962088</td>\n",
       "      <td>13.931172026548118</td>\n",
       "    </tr>\n",
       "    <tr>\n",
       "      <th>3</th>\n",
       "      <td>2022-01-01</td>\n",
       "      <td>All Results</td>\n",
       "      <td>Utah</td>\n",
       "      <td>13.899477807619023</td>\n",
       "      <td>17.912300475962088</td>\n",
       "      <td>13.931172026548118</td>\n",
       "    </tr>\n",
       "    <tr>\n",
       "      <th>4</th>\n",
       "      <td>2022-01-01</td>\n",
       "      <td>All Results</td>\n",
       "      <td>Virginia</td>\n",
       "      <td>16.491607944469514</td>\n",
       "      <td>17.912300475962088</td>\n",
       "      <td>16.54269541744756</td>\n",
       "    </tr>\n",
       "  </tbody>\n",
       "</table>\n",
       "</div>"
      ],
      "text/plain": [
       "         date  date_period     State               value      national_value  \\\n",
       "0  2022-01-01  All Results  Michigan  14.305279825535322  17.912300475962088   \n",
       "1  2022-01-01  All Results  Illinois  11.497446593582922  17.912300475962088   \n",
       "2  2022-01-01  All Results     Idaho  23.495124167551566  17.912300475962088   \n",
       "3  2022-01-01  All Results      Utah  13.899477807619023  17.912300475962088   \n",
       "4  2022-01-01  All Results  Virginia  16.491607944469514  17.912300475962088   \n",
       "\n",
       "         region_value  \n",
       "0  20.688484818204877  \n",
       "1  20.688484818204877  \n",
       "2  13.931172026548118  \n",
       "3  13.931172026548118  \n",
       "4   16.54269541744756  "
      ]
     },
     "execution_count": 160,
     "metadata": {},
     "output_type": "execute_result"
    }
   ],
   "source": [
    "import requests\n",
    "\n",
    "# URL for the JSON data\n",
    "url = \"https://www.cdc.gov/wcms/vizdata/NCEZID_DIDRI/NWSSStateLevel.json\"\n",
    "\n",
    "# Making a request to the URL\n",
    "response = requests.get(url)\n",
    "\n",
    "# Decoding the content with 'utf-8-sig' to handle BOM\n",
    "content = response.content.decode('utf-8-sig')\n",
    "data = json.loads(content)\n",
    "\n",
    "# Converting the JSON data to a pandas dataframe\n",
    "wval_df = pd.json_normalize(data)\n",
    "\n",
    "# Display the first few rows of the dataframe\n",
    "wval_df.head()\n"
   ]
  },
  {
   "cell_type": "markdown",
   "metadata": {},
   "source": [
    "## Cleaning"
   ]
  },
  {
   "cell_type": "markdown",
   "metadata": {},
   "source": [
    "First, we need to see if the two datasets are using the same week cadence for their aggregation."
   ]
  },
  {
   "cell_type": "code",
   "execution_count": 161,
   "metadata": {},
   "outputs": [
    {
     "data": {
      "text/plain": [
       "[datetime.date(2022, 1, 5),\n",
       " datetime.date(2022, 1, 12),\n",
       " datetime.date(2022, 1, 19),\n",
       " datetime.date(2022, 1, 26),\n",
       " datetime.date(2022, 2, 2)]"
      ]
     },
     "execution_count": 161,
     "metadata": {},
     "output_type": "execute_result"
    }
   ],
   "source": [
    "# convert the cases dates to a date format\n",
    "cases_df['end_date'] = pd.to_datetime(cases_df['end_date'])\n",
    "cases_df['end_date'] = cases_df['end_date'].apply(lambda x: x.date() if pd.notnull(x) else None)\n",
    "\n",
    "# make a copy of cases_df before date filtering for subsequent use\n",
    "cases_copy = cases_df.copy()\n",
    "\n",
    "# the cases dataset starts much earlier than the wval dataset, so we filter to get dates in same range\n",
    "start_date = pd.to_datetime('2022-01-01').date()\n",
    "cases_df = cases_df[cases_df.end_date >= start_date]\n",
    "\n",
    "# First check the end_dates for the cases dataset\n",
    "unique_end_dates = cases_df['end_date'].dropna().unique()\n",
    "sorted_unique_end_dates = sorted(unique_end_dates)[:5]\n",
    "sorted_unique_end_dates"
   ]
  },
  {
   "cell_type": "code",
   "execution_count": 162,
   "metadata": {},
   "outputs": [
    {
     "data": {
      "text/plain": [
       "[datetime.date(2022, 1, 1),\n",
       " datetime.date(2022, 1, 8),\n",
       " datetime.date(2022, 1, 15),\n",
       " datetime.date(2022, 1, 22),\n",
       " datetime.date(2022, 1, 29)]"
      ]
     },
     "execution_count": 162,
     "metadata": {},
     "output_type": "execute_result"
    }
   ],
   "source": [
    "# convert the wval dates to a date format\n",
    "wval_df['date'] = pd.to_datetime(wval_df['date'])\n",
    "wval_df['date'] = wval_df['date'].apply(lambda x: x.date() if pd.notnull(x) else None)\n",
    "# Next check the dates (equivalent to end date) for the WVALs dataset\n",
    "unique_end_dates = wval_df['date'].dropna().unique()\n",
    "sorted_unique_end_dates = sorted(unique_end_dates)\n",
    "sorted_unique_end_dates[:5]"
   ]
  },
  {
   "cell_type": "markdown",
   "metadata": {},
   "source": [
    "The datasets are out of sync, so we will have to address this.\n",
    "The cases dataset is on a *Thursday to Wednesday* week.\n",
    "The wval dataset is on a *Sunday to Saturday* week.\n",
    "\n",
    "We will effect a crude solution by simply adding days to the end_dates for the wval dataset.\n",
    "Given that changes wastewater data have been seen to precede case data changes, this solution is preferable to the reverse."
   ]
  },
  {
   "cell_type": "code",
   "execution_count": 163,
   "metadata": {},
   "outputs": [],
   "source": [
    "from datetime import timedelta\n",
    "\n",
    "# This function assumes 'date' is a datetime.date object\n",
    "def align_dates(date):\n",
    "    # Find the weekday number, with Monday as 0 and Sunday as 6\n",
    "    weekday = date.weekday()\n",
    "    \n",
    "    # If the date is from Sunday (6) to Wednesday (2), add the necessary days\n",
    "    # to align it to the following Wednesday\n",
    "    if weekday < 3:  # From Sunday to Wednesday\n",
    "        # Add the difference to reach the next Wednesday\n",
    "        return date + timedelta(days=(2 - weekday))\n",
    "    elif weekday > 3:  # From Thursday to Saturday\n",
    "        # Add the days needed to reach the next Wednesday\n",
    "        return date + timedelta(days=(9 - weekday))\n",
    "    else:  # If it's already Wednesday, no change needed\n",
    "        return date\n",
    "\n",
    "# Apply the function to the 'end_date' column of the wval_df dataframe\n",
    "wval_df['aligned_end_date'] = wval_df['date'].apply(align_dates)\n"
   ]
  },
  {
   "cell_type": "markdown",
   "metadata": {},
   "source": [
    "Now, we'll compare dates again to see if this worked."
   ]
  },
  {
   "cell_type": "code",
   "execution_count": 164,
   "metadata": {},
   "outputs": [
    {
     "data": {
      "text/plain": [
       "[datetime.date(2022, 1, 5),\n",
       " datetime.date(2022, 1, 12),\n",
       " datetime.date(2022, 1, 19)]"
      ]
     },
     "execution_count": 164,
     "metadata": {},
     "output_type": "execute_result"
    }
   ],
   "source": [
    "# First check the end_dates for the cases dataset\n",
    "unique_end_dates = cases_df['end_date'].dropna().unique()\n",
    "sorted_unique_end_dates = sorted(unique_end_dates)[:3]\n",
    "sorted_unique_end_dates"
   ]
  },
  {
   "cell_type": "code",
   "execution_count": 165,
   "metadata": {},
   "outputs": [
    {
     "data": {
      "text/plain": [
       "[datetime.date(2022, 1, 5),\n",
       " datetime.date(2022, 1, 12),\n",
       " datetime.date(2022, 1, 19)]"
      ]
     },
     "execution_count": 165,
     "metadata": {},
     "output_type": "execute_result"
    }
   ],
   "source": [
    "# Next check the dates (equivalent to end date) for the WVALs dataset\n",
    "unique_end_dates = wval_df['aligned_end_date'].dropna().unique()\n",
    "sorted_unique_end_dates = sorted(unique_end_dates)\n",
    "sorted_unique_end_dates[:3]"
   ]
  },
  {
   "cell_type": "markdown",
   "metadata": {},
   "source": [
    "This shows the date cadence is now aligned between the datasets."
   ]
  },
  {
   "cell_type": "code",
   "execution_count": 166,
   "metadata": {},
   "outputs": [
    {
     "data": {
      "text/html": [
       "<div>\n",
       "<style scoped>\n",
       "    .dataframe tbody tr th:only-of-type {\n",
       "        vertical-align: middle;\n",
       "    }\n",
       "\n",
       "    .dataframe tbody tr th {\n",
       "        vertical-align: top;\n",
       "    }\n",
       "\n",
       "    .dataframe thead th {\n",
       "        text-align: right;\n",
       "    }\n",
       "</style>\n",
       "<table border=\"1\" class=\"dataframe\">\n",
       "  <thead>\n",
       "    <tr style=\"text-align: right;\">\n",
       "      <th></th>\n",
       "      <th>end_date</th>\n",
       "      <th>State</th>\n",
       "      <th>wval</th>\n",
       "    </tr>\n",
       "  </thead>\n",
       "  <tbody>\n",
       "    <tr>\n",
       "      <th>0</th>\n",
       "      <td>2022-01-05</td>\n",
       "      <td>Michigan</td>\n",
       "      <td>14.305279825535322</td>\n",
       "    </tr>\n",
       "    <tr>\n",
       "      <th>1</th>\n",
       "      <td>2022-01-05</td>\n",
       "      <td>Illinois</td>\n",
       "      <td>11.497446593582922</td>\n",
       "    </tr>\n",
       "    <tr>\n",
       "      <th>2</th>\n",
       "      <td>2022-01-05</td>\n",
       "      <td>Idaho</td>\n",
       "      <td>23.495124167551566</td>\n",
       "    </tr>\n",
       "    <tr>\n",
       "      <th>3</th>\n",
       "      <td>2022-01-05</td>\n",
       "      <td>Utah</td>\n",
       "      <td>13.899477807619023</td>\n",
       "    </tr>\n",
       "    <tr>\n",
       "      <th>4</th>\n",
       "      <td>2022-01-05</td>\n",
       "      <td>Virginia</td>\n",
       "      <td>16.491607944469514</td>\n",
       "    </tr>\n",
       "  </tbody>\n",
       "</table>\n",
       "</div>"
      ],
      "text/plain": [
       "     end_date     State                wval\n",
       "0  2022-01-05  Michigan  14.305279825535322\n",
       "1  2022-01-05  Illinois  11.497446593582922\n",
       "2  2022-01-05     Idaho  23.495124167551566\n",
       "3  2022-01-05      Utah  13.899477807619023\n",
       "4  2022-01-05  Virginia  16.491607944469514"
      ]
     },
     "execution_count": 166,
     "metadata": {},
     "output_type": "execute_result"
    }
   ],
   "source": [
    "# the wval dataset includes multiple versions of the data for each timeframe, we'll filter to only the \"All results\" date_period\n",
    "wval_df = wval_df[wval_df.date_period == 'All Results']\n",
    "# select desired cols from the wval df\n",
    "wval_cols = ['aligned_end_date', 'State', 'value']\n",
    "wval_df = wval_df[wval_cols].rename(columns={\"value\":\"wval\", \"aligned_end_date\":\"end_date\"})\n",
    "wval_df.head()"
   ]
  },
  {
   "cell_type": "code",
   "execution_count": 167,
   "metadata": {},
   "outputs": [
    {
     "data": {
      "text/html": [
       "<div>\n",
       "<style scoped>\n",
       "    .dataframe tbody tr th:only-of-type {\n",
       "        vertical-align: middle;\n",
       "    }\n",
       "\n",
       "    .dataframe tbody tr th {\n",
       "        vertical-align: top;\n",
       "    }\n",
       "\n",
       "    .dataframe thead th {\n",
       "        text-align: right;\n",
       "    }\n",
       "</style>\n",
       "<table border=\"1\" class=\"dataframe\">\n",
       "  <thead>\n",
       "    <tr style=\"text-align: right;\">\n",
       "      <th></th>\n",
       "      <th>end_date</th>\n",
       "      <th>state</th>\n",
       "      <th>new_cases</th>\n",
       "    </tr>\n",
       "  </thead>\n",
       "  <tbody>\n",
       "    <tr>\n",
       "      <th>0</th>\n",
       "      <td>2023-02-22</td>\n",
       "      <td>AZ</td>\n",
       "      <td>3716.0</td>\n",
       "    </tr>\n",
       "    <tr>\n",
       "      <th>1</th>\n",
       "      <td>2022-12-21</td>\n",
       "      <td>LA</td>\n",
       "      <td>4041.0</td>\n",
       "    </tr>\n",
       "    <tr>\n",
       "      <th>2</th>\n",
       "      <td>2023-02-22</td>\n",
       "      <td>GA</td>\n",
       "      <td>5298.0</td>\n",
       "    </tr>\n",
       "    <tr>\n",
       "      <th>3</th>\n",
       "      <td>2023-03-29</td>\n",
       "      <td>LA</td>\n",
       "      <td>2203.0</td>\n",
       "    </tr>\n",
       "    <tr>\n",
       "      <th>4</th>\n",
       "      <td>2023-02-01</td>\n",
       "      <td>LA</td>\n",
       "      <td>5725.0</td>\n",
       "    </tr>\n",
       "  </tbody>\n",
       "</table>\n",
       "</div>"
      ],
      "text/plain": [
       "     end_date state new_cases\n",
       "0  2023-02-22    AZ    3716.0\n",
       "1  2022-12-21    LA    4041.0\n",
       "2  2023-02-22    GA    5298.0\n",
       "3  2023-03-29    LA    2203.0\n",
       "4  2023-02-01    LA    5725.0"
      ]
     },
     "execution_count": 167,
     "metadata": {},
     "output_type": "execute_result"
    }
   ],
   "source": [
    "# select desired cases cols\n",
    "cases_cols = ['end_date', 'state', 'new_cases']\n",
    "cases_df = cases_df[cases_cols]\n",
    "cases_df.head()"
   ]
  },
  {
   "cell_type": "markdown",
   "metadata": {},
   "source": [
    "The last step to preparing the cases data is to convert the state abbreviations to state names to match the WVAL data."
   ]
  },
  {
   "cell_type": "code",
   "execution_count": 168,
   "metadata": {},
   "outputs": [],
   "source": [
    "# only run this once\n",
    "# %pip install us"
   ]
  },
  {
   "cell_type": "code",
   "execution_count": 169,
   "metadata": {},
   "outputs": [
    {
     "name": "stdout",
     "output_type": "stream",
     "text": [
      "length before merge: 4260\n",
      "length after merge: 4260\n",
      "     end_date new_cases      State\n",
      "0  2023-02-22    3716.0    Arizona\n",
      "1  2022-12-21    4041.0  Louisiana\n",
      "2  2023-02-22    5298.0    Georgia\n",
      "3  2023-03-29    2203.0  Louisiana\n",
      "4  2023-02-01    5725.0  Louisiana\n"
     ]
    }
   ],
   "source": [
    "import us\n",
    "\n",
    "print(f'length before merge: {len(cases_df)}')\n",
    "\n",
    "# Create a list of dictionaries, each containing a state's name and abbreviation\n",
    "states = [{'State': state.name, 'abbrev': state.abbr} for state in us.states.STATES_AND_TERRITORIES]\n",
    "\n",
    "# Convert the list of dictionaries into a DataFrame\n",
    "abbrevs = pd.DataFrame(states)\n",
    "\n",
    "# join to cases dataset, then drop abbreiviation columns\n",
    "cases_df = cases_df.merge(abbrevs, left_on='state', right_on='abbrev', how='left').drop(columns=['state','abbrev'])\n",
    "\n",
    "print(f'length after merge: {len(cases_df)}')\n",
    "print(cases_df.head())"
   ]
  },
  {
   "cell_type": "markdown",
   "metadata": {},
   "source": [
    "### Merge datasets and filter dates.\n",
    "The wval dataset begins in Jan 2022 and the cases dataset stops being updated as of June 2023, lets see how our data match up in that timeframe."
   ]
  },
  {
   "cell_type": "code",
   "execution_count": 170,
   "metadata": {},
   "outputs": [
    {
     "name": "stdout",
     "output_type": "stream",
     "text": [
      "The cases dataset goes from 2022-01-05 to 2023-05-10\n",
      "The wval dataset goes from 2022-01-05 to 2023-12-06\n"
     ]
    }
   ],
   "source": [
    "print(f'The cases dataset goes from {cases_df.end_date.min()} to {cases_df.end_date.max()}')\n",
    "print(f'The wval dataset goes from {wval_df.end_date.min()} to {wval_df.end_date.max()}')"
   ]
  },
  {
   "cell_type": "code",
   "execution_count": 171,
   "metadata": {},
   "outputs": [
    {
     "data": {
      "image/png": "[encoded data removed]",
      "text/plain": [
       "<Figure size 1000x600 with 1 Axes>"
      ]
     },
     "metadata": {},
     "output_type": "display_data"
    }
   ],
   "source": [
    "import matplotlib.pyplot as plt\n",
    "import pandas as pd\n",
    "\n",
    "# Assuming cases_df and wval_df are your dataframes and they are already loaded with 'end_date' in datetime format.\n",
    "\n",
    "# Clip wval_df to match the cases_df timeframe\n",
    "end_date = pd.to_datetime('2023-05-10').date()\n",
    "wval_df = wval_df[wval_df['end_date'] <= end_date]\n",
    "\n",
    "# Group by 'end_date' and count unique 'state' values for each dataset\n",
    "cases_grouped = cases_df.groupby('end_date')['State'].nunique()\n",
    "wval_grouped = wval_df.groupby('end_date')['State'].nunique()\n",
    "\n",
    "# Create a line plot\n",
    "plt.figure(figsize=(10, 6))\n",
    "\n",
    "plt.plot(cases_grouped.index, cases_grouped.values, label='Cases', color='blue')\n",
    "plt.plot(wval_grouped.index, wval_grouped.values, label='WVAL', color='orange')\n",
    "\n",
    "# Adding title and labels\n",
    "plt.title('Count of Unique States Reporting Weekly for Cases and WVAL Datasets')\n",
    "plt.xlabel('End Date')\n",
    "plt.ylabel('Unique State Count')\n",
    "\n",
    "# Rotate the x-axis labels for better readability\n",
    "plt.xticks(rotation=45)\n",
    "\n",
    "# Adding a legend to distinguish the two lines\n",
    "plt.legend()\n",
    "\n",
    "# Show the plot with a tight layout\n",
    "plt.tight_layout()\n",
    "plt.show()\n"
   ]
  },
  {
   "cell_type": "code",
   "execution_count": 175,
   "metadata": {},
   "outputs": [
    {
     "data": {
      "text/html": [
       "<div>\n",
       "<style scoped>\n",
       "    .dataframe tbody tr th:only-of-type {\n",
       "        vertical-align: middle;\n",
       "    }\n",
       "\n",
       "    .dataframe tbody tr th {\n",
       "        vertical-align: top;\n",
       "    }\n",
       "\n",
       "    .dataframe thead th {\n",
       "        text-align: right;\n",
       "    }\n",
       "</style>\n",
       "<table border=\"1\" class=\"dataframe\">\n",
       "  <thead>\n",
       "    <tr style=\"text-align: right;\">\n",
       "      <th></th>\n",
       "      <th>end_date</th>\n",
       "      <th>State</th>\n",
       "      <th>wval</th>\n",
       "      <th>new_cases</th>\n",
       "    </tr>\n",
       "  </thead>\n",
       "  <tbody>\n",
       "    <tr>\n",
       "      <th>0</th>\n",
       "      <td>2022-01-05</td>\n",
       "      <td>Michigan</td>\n",
       "      <td>14.305279825535322</td>\n",
       "      <td>98413.0</td>\n",
       "    </tr>\n",
       "    <tr>\n",
       "      <th>1</th>\n",
       "      <td>2022-01-05</td>\n",
       "      <td>Illinois</td>\n",
       "      <td>11.497446593582922</td>\n",
       "      <td>176283.0</td>\n",
       "    </tr>\n",
       "    <tr>\n",
       "      <th>2</th>\n",
       "      <td>2022-01-05</td>\n",
       "      <td>Idaho</td>\n",
       "      <td>23.495124167551566</td>\n",
       "      <td>5507.0</td>\n",
       "    </tr>\n",
       "    <tr>\n",
       "      <th>3</th>\n",
       "      <td>2022-01-05</td>\n",
       "      <td>Utah</td>\n",
       "      <td>13.899477807619023</td>\n",
       "      <td>29982.0</td>\n",
       "    </tr>\n",
       "    <tr>\n",
       "      <th>4</th>\n",
       "      <td>2022-01-05</td>\n",
       "      <td>Virginia</td>\n",
       "      <td>16.491607944469514</td>\n",
       "      <td>99482.0</td>\n",
       "    </tr>\n",
       "  </tbody>\n",
       "</table>\n",
       "</div>"
      ],
      "text/plain": [
       "     end_date     State                wval new_cases\n",
       "0  2022-01-05  Michigan  14.305279825535322   98413.0\n",
       "1  2022-01-05  Illinois  11.497446593582922  176283.0\n",
       "2  2022-01-05     Idaho  23.495124167551566    5507.0\n",
       "3  2022-01-05      Utah  13.899477807619023   29982.0\n",
       "4  2022-01-05  Virginia  16.491607944469514   99482.0"
      ]
     },
     "execution_count": 175,
     "metadata": {},
     "output_type": "execute_result"
    }
   ],
   "source": [
    "# merge data\n",
    "wval_cases = pd.merge(wval_df, cases_df, left_on=['end_date','State'],right_on=['end_date','State'], how='left')\n",
    "\n",
    "wval_cases.head(5)"
   ]
  },
  {
   "cell_type": "markdown",
   "metadata": {},
   "source": [
    "## Test Correlations"
   ]
  },
  {
   "cell_type": "markdown",
   "metadata": {},
   "source": [
    "Now that the data is prepared, we are ready to test correlations.\n",
    "First, let's start by displaying this as a distribution of the Spearman Rank correlation scores by state."
   ]
  },
  {
   "cell_type": "code",
   "execution_count": 178,
   "metadata": {},
   "outputs": [
    {
     "data": {
      "text/plain": [
       "array([[<Axes: title={'center': 'spearman_correlation'}>]], dtype=object)"
      ]
     },
     "execution_count": 178,
     "metadata": {},
     "output_type": "execute_result"
    },
    {
     "data": {
      "image/png": "[encoded data removed]",
      "text/plain": [
       "<Figure size 640x480 with 1 Axes>"
      ]
     },
     "metadata": {},
     "output_type": "display_data"
    }
   ],
   "source": [
    "# Define a function to calculate Spearman correlation for a group\n",
    "def calculate_spearman_correlation(group):\n",
    "    correlation = group['wval'].corr(group['new_cases'], method='spearman')\n",
    "    return pd.DataFrame({'state': [group.name], 'spearman_correlation': [round(correlation,3)]})\n",
    "\n",
    "# Group the data by 'state' and apply the correlation calculation\n",
    "state_correlations = wval_cases.groupby('State').apply(calculate_spearman_correlation).reset_index(drop=True)\n",
    "\n",
    "state_correlations = state_correlations.sort_values('spearman_correlation').dropna()\n",
    "state_correlations.hist()"
   ]
  },
  {
   "cell_type": "code",
   "execution_count": null,
   "metadata": {},
   "outputs": [],
   "source": []
  }
 ],
 "metadata": {
  "kernelspec": {
   "display_name": "Python 3",
   "language": "python",
   "name": "python3"
  },
  "language_info": {
   "codemirror_mode": {
    "name": "ipython",
    "version": 3
   },
   "file_extension": ".py",
   "mimetype": "text/x-python",
   "name": "python",
   "nbconvert_exporter": "python",
   "pygments_lexer": "ipython3",
   "version": "3.10.13"
  }
 },
 "nbformat": 4,
 "nbformat_minor": 2
}
