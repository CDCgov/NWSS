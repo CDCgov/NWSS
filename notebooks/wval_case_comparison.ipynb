{
 "cells": [
  {
   "cell_type": "markdown",
   "id": "ac4b091b-a0a2-4436-ae6a-ea7ab6197901",
   "metadata": {},
   "source": [
    "# WW Index and Cases Comparison\n",
    "\n",
    "A notebook to assess correlation of `ww_index` with weekly cases for different geographies.\n",
    "\n",
    "The assessment focuses on the 04-01-2021 to 04-01-2022 period which is assumed to have more reliable case data."
   ]
  },
  {
   "cell_type": "markdown",
   "id": "a98996dc-1095-405a-a6a1-d9ac214b68c7",
   "metadata": {},
   "source": [
    "## Imports"
   ]
  },
  {
   "cell_type": "markdown",
   "id": "fee4e955-777c-4524-9528-7c1f2741b568",
   "metadata": {},
   "source": [
    "- Public dataset of weekly cases by state\n",
    "- State census regions dataset\n",
    "- WW index dataset, modified to be on a wed to thurs schedule to match the cases dataset"
   ]
  },
  {
   "cell_type": "code",
   "execution_count": 1,
   "id": "153c9c97-8d40-4549-bc89-8aee93f7de6f",
   "metadata": {
    "tags": []
   },
   "outputs": [],
   "source": [
    "from foundry.transforms import Dataset\n",
    "\n",
    "cases = Dataset.get(\"Weekly_United_States_COVID_19_Cases_and_Deaths_by_State_Archived\")\\\n",
    "  .read_table(format=\"arrow\")\\\n",
    "  .to_pandas()"
   ]
  },
  {
   "cell_type": "code",
   "execution_count": 2,
   "id": "39fd9c8d-24c9-4565-821c-59afe45e1835",
   "metadata": {
    "tags": []
   },
   "outputs": [],
   "source": [
    "from foundry.transforms import Dataset\n",
    "\n",
    "regions =  Dataset.get(\"state_ontology_copy\")\\\n",
    "  .read_table(format=\"arrow\")\\\n",
    "  .to_pandas()\n",
    "\n",
    "abbrevs = Dataset.get(\"abbreviations_names\")\\\n",
    "  .read_table(format=\"arrow\")\\\n",
    "  .to_pandas()"
   ]
  },
  {
   "cell_type": "code",
   "execution_count": 3,
   "id": "b277dd23-938b-468d-aa75-083bba97d88f",
   "metadata": {
    "tags": []
   },
   "outputs": [],
   "source": [
    "from foundry.transforms import Dataset\n",
    "\n",
    "nat_log = Dataset.get(\"ww_index_nat_log_thurs_to_wed_weekly\")\\\n",
    "  .read_table(format=\"arrow\")\\\n",
    "  .to_pandas()"
   ]
  },
  {
   "cell_type": "code",
   "execution_count": 4,
   "id": "42948845-611a-43f1-bc2a-6922c050d17c",
   "metadata": {
    "jupyter": {
     "source_hidden": true
    },
    "tags": []
   },
   "outputs": [],
   "source": [
    "import pandas as pd\n",
    "import numpy as np\n",
    "import matplotlib.pyplot as plt\n",
    "import seaborn as sns"
   ]
  },
  {
   "cell_type": "code",
   "execution_count": 5,
   "id": "28daf0ae-1083-44ae-a9f4-3705adc7e892",
   "metadata": {},
   "outputs": [
    {
     "data": {
      "text/plain": [
       "104657528"
      ]
     },
     "execution_count": 5,
     "metadata": {},
     "output_type": "execute_result"
    }
   ],
   "source": [
    "cases.new_cases.sum()"
   ]
  },
  {
   "cell_type": "code",
   "execution_count": 6,
   "id": "77c33a9f-1e41-405a-8985-f99ff4a42ce5",
   "metadata": {},
   "outputs": [
    {
     "data": {
      "text/plain": [
       "790954"
      ]
     },
     "execution_count": 6,
     "metadata": {},
     "output_type": "execute_result"
    }
   ],
   "source": [
    "cases.new_cases.max()"
   ]
  },
  {
   "cell_type": "markdown",
   "id": "3e1055e1-6464-4587-a368-9e4e5605dc80",
   "metadata": {},
   "source": [
    "Filter data for desired target and date range, select only needed columns."
   ]
  },
  {
   "cell_type": "code",
   "execution_count": 7,
   "id": "d13be75d-1b1a-4ca4-af6c-da7e95623ae5",
   "metadata": {},
   "outputs": [
    {
     "data": {
      "text/html": [
       "<div>\n",
       "<style scoped>\n",
       "    .dataframe tbody tr th:only-of-type {\n",
       "        vertical-align: middle;\n",
       "    }\n",
       "\n",
       "    .dataframe tbody tr th {\n",
       "        vertical-align: top;\n",
       "    }\n",
       "\n",
       "    .dataframe thead th {\n",
       "        text-align: right;\n",
       "    }\n",
       "</style>\n",
       "<table border=\"1\" class=\"dataframe\">\n",
       "  <thead>\n",
       "    <tr style=\"text-align: right;\">\n",
       "      <th></th>\n",
       "      <th>week_end</th>\n",
       "      <th>sample_collect_date</th>\n",
       "      <th>us_census_region_modified</th>\n",
       "      <th>State</th>\n",
       "      <th>ww_index_normed_ln_lin</th>\n",
       "      <th>site_id_with_pcr</th>\n",
       "    </tr>\n",
       "  </thead>\n",
       "  <tbody>\n",
       "    <tr>\n",
       "      <th>748</th>\n",
       "      <td>2021-01-06</td>\n",
       "      <td>2021-01-03</td>\n",
       "      <td>West</td>\n",
       "      <td>California</td>\n",
       "      <td>14.483046</td>\n",
       "      <td>06075-001-01-00-00_sars-cov-2</td>\n",
       "    </tr>\n",
       "    <tr>\n",
       "      <th>83919</th>\n",
       "      <td>2021-01-06</td>\n",
       "      <td>2021-01-05</td>\n",
       "      <td>Midwest</td>\n",
       "      <td>Wisconsin</td>\n",
       "      <td>3.216306</td>\n",
       "      <td>55047-001-01-00-00_sars-cov-2</td>\n",
       "    </tr>\n",
       "    <tr>\n",
       "      <th>83920</th>\n",
       "      <td>2021-01-06</td>\n",
       "      <td>2021-01-05</td>\n",
       "      <td>Midwest</td>\n",
       "      <td>Wisconsin</td>\n",
       "      <td>2.312629</td>\n",
       "      <td>55057-001-01-00-00_sars-cov-2</td>\n",
       "    </tr>\n",
       "  </tbody>\n",
       "</table>\n",
       "</div>"
      ],
      "text/plain": [
       "         week_end sample_collect_date us_census_region_modified       State  \\\n",
       "748    2021-01-06          2021-01-03                      West  California   \n",
       "83919  2021-01-06          2021-01-05                   Midwest   Wisconsin   \n",
       "83920  2021-01-06          2021-01-05                   Midwest   Wisconsin   \n",
       "\n",
       "       ww_index_normed_ln_lin               site_id_with_pcr  \n",
       "748                 14.483046  06075-001-01-00-00_sars-cov-2  \n",
       "83919                3.216306  55047-001-01-00-00_sars-cov-2  \n",
       "83920                2.312629  55057-001-01-00-00_sars-cov-2  "
      ]
     },
     "execution_count": 7,
     "metadata": {},
     "output_type": "execute_result"
    }
   ],
   "source": [
    "nat_log = nat_log[nat_log.pcr_target == 'sars-cov-2']\n",
    "\n",
    "start_date = pd.to_datetime('2021-01-01').date()\n",
    "end_date = pd.to_datetime('2023-05-10').date()\n",
    "\n",
    "nat_log = nat_log[nat_log.week_end.between(start_date, end_date)]\n",
    "\n",
    "# select desired fields from nat_log\n",
    "fields = ['week_end', 'sample_collect_date', 'us_census_region_modified', 'State', 'ww_index_normed_ln_lin', 'site_id_with_pcr']\n",
    "nat_log = nat_log[fields].sort_values(by='week_end')\n",
    "\n",
    "nat_log.head(3)"
   ]
  },
  {
   "cell_type": "code",
   "execution_count": 8,
   "id": "111fe243-74c0-426d-b2eb-7168d6f50674",
   "metadata": {},
   "outputs": [
    {
     "data": {
      "text/html": [
       "<div>\n",
       "<style scoped>\n",
       "    .dataframe tbody tr th:only-of-type {\n",
       "        vertical-align: middle;\n",
       "    }\n",
       "\n",
       "    .dataframe tbody tr th {\n",
       "        vertical-align: top;\n",
       "    }\n",
       "\n",
       "    .dataframe thead th {\n",
       "        text-align: right;\n",
       "    }\n",
       "</style>\n",
       "<table border=\"1\" class=\"dataframe\">\n",
       "  <thead>\n",
       "    <tr style=\"text-align: right;\">\n",
       "      <th></th>\n",
       "      <th>state</th>\n",
       "      <th>site_id_with_pcr</th>\n",
       "    </tr>\n",
       "  </thead>\n",
       "  <tbody>\n",
       "    <tr>\n",
       "      <th>33</th>\n",
       "      <td>New York</td>\n",
       "      <td>138</td>\n",
       "    </tr>\n",
       "    <tr>\n",
       "      <th>4</th>\n",
       "      <td>California</td>\n",
       "      <td>83</td>\n",
       "    </tr>\n",
       "    <tr>\n",
       "      <th>26</th>\n",
       "      <td>Missouri</td>\n",
       "      <td>81</td>\n",
       "    </tr>\n",
       "    <tr>\n",
       "      <th>14</th>\n",
       "      <td>Illinois</td>\n",
       "      <td>79</td>\n",
       "    </tr>\n",
       "    <tr>\n",
       "      <th>36</th>\n",
       "      <td>Ohio</td>\n",
       "      <td>79</td>\n",
       "    </tr>\n",
       "    <tr>\n",
       "      <th>23</th>\n",
       "      <td>Michigan</td>\n",
       "      <td>75</td>\n",
       "    </tr>\n",
       "    <tr>\n",
       "      <th>50</th>\n",
       "      <td>Wisconsin</td>\n",
       "      <td>65</td>\n",
       "    </tr>\n",
       "    <tr>\n",
       "      <th>5</th>\n",
       "      <td>Colorado</td>\n",
       "      <td>64</td>\n",
       "    </tr>\n",
       "    <tr>\n",
       "      <th>34</th>\n",
       "      <td>North Carolina</td>\n",
       "      <td>53</td>\n",
       "    </tr>\n",
       "    <tr>\n",
       "      <th>47</th>\n",
       "      <td>Virginia</td>\n",
       "      <td>46</td>\n",
       "    </tr>\n",
       "    <tr>\n",
       "      <th>38</th>\n",
       "      <td>Oregon</td>\n",
       "      <td>42</td>\n",
       "    </tr>\n",
       "    <tr>\n",
       "      <th>19</th>\n",
       "      <td>Louisiana</td>\n",
       "      <td>40</td>\n",
       "    </tr>\n",
       "    <tr>\n",
       "      <th>39</th>\n",
       "      <td>Pennsylvania</td>\n",
       "      <td>37</td>\n",
       "    </tr>\n",
       "    <tr>\n",
       "      <th>24</th>\n",
       "      <td>Minnesota</td>\n",
       "      <td>35</td>\n",
       "    </tr>\n",
       "    <tr>\n",
       "      <th>45</th>\n",
       "      <td>Utah</td>\n",
       "      <td>33</td>\n",
       "    </tr>\n",
       "    <tr>\n",
       "      <th>44</th>\n",
       "      <td>Texas</td>\n",
       "      <td>30</td>\n",
       "    </tr>\n",
       "    <tr>\n",
       "      <th>15</th>\n",
       "      <td>Indiana</td>\n",
       "      <td>27</td>\n",
       "    </tr>\n",
       "    <tr>\n",
       "      <th>48</th>\n",
       "      <td>Washington</td>\n",
       "      <td>26</td>\n",
       "    </tr>\n",
       "    <tr>\n",
       "      <th>20</th>\n",
       "      <td>Maine</td>\n",
       "      <td>24</td>\n",
       "    </tr>\n",
       "    <tr>\n",
       "      <th>49</th>\n",
       "      <td>West Virginia</td>\n",
       "      <td>24</td>\n",
       "    </tr>\n",
       "    <tr>\n",
       "      <th>13</th>\n",
       "      <td>Idaho</td>\n",
       "      <td>21</td>\n",
       "    </tr>\n",
       "    <tr>\n",
       "      <th>10</th>\n",
       "      <td>Georgia</td>\n",
       "      <td>21</td>\n",
       "    </tr>\n",
       "    <tr>\n",
       "      <th>3</th>\n",
       "      <td>Arkansas</td>\n",
       "      <td>21</td>\n",
       "    </tr>\n",
       "    <tr>\n",
       "      <th>18</th>\n",
       "      <td>Kentucky</td>\n",
       "      <td>20</td>\n",
       "    </tr>\n",
       "    <tr>\n",
       "      <th>28</th>\n",
       "      <td>Nebraska</td>\n",
       "      <td>19</td>\n",
       "    </tr>\n",
       "    <tr>\n",
       "      <th>9</th>\n",
       "      <td>Florida</td>\n",
       "      <td>18</td>\n",
       "    </tr>\n",
       "    <tr>\n",
       "      <th>41</th>\n",
       "      <td>South Carolina</td>\n",
       "      <td>16</td>\n",
       "    </tr>\n",
       "    <tr>\n",
       "      <th>2</th>\n",
       "      <td>Arizona</td>\n",
       "      <td>14</td>\n",
       "    </tr>\n",
       "    <tr>\n",
       "      <th>21</th>\n",
       "      <td>Maryland</td>\n",
       "      <td>13</td>\n",
       "    </tr>\n",
       "    <tr>\n",
       "      <th>30</th>\n",
       "      <td>New Hampshire</td>\n",
       "      <td>13</td>\n",
       "    </tr>\n",
       "    <tr>\n",
       "      <th>17</th>\n",
       "      <td>Kansas</td>\n",
       "      <td>13</td>\n",
       "    </tr>\n",
       "    <tr>\n",
       "      <th>6</th>\n",
       "      <td>Connecticut</td>\n",
       "      <td>13</td>\n",
       "    </tr>\n",
       "    <tr>\n",
       "      <th>32</th>\n",
       "      <td>New Mexico</td>\n",
       "      <td>12</td>\n",
       "    </tr>\n",
       "    <tr>\n",
       "      <th>12</th>\n",
       "      <td>Hawaii</td>\n",
       "      <td>11</td>\n",
       "    </tr>\n",
       "    <tr>\n",
       "      <th>16</th>\n",
       "      <td>Iowa</td>\n",
       "      <td>11</td>\n",
       "    </tr>\n",
       "    <tr>\n",
       "      <th>43</th>\n",
       "      <td>Tennessee</td>\n",
       "      <td>9</td>\n",
       "    </tr>\n",
       "    <tr>\n",
       "      <th>0</th>\n",
       "      <td>Alabama</td>\n",
       "      <td>9</td>\n",
       "    </tr>\n",
       "    <tr>\n",
       "      <th>31</th>\n",
       "      <td>New Jersey</td>\n",
       "      <td>9</td>\n",
       "    </tr>\n",
       "    <tr>\n",
       "      <th>40</th>\n",
       "      <td>Rhode Island</td>\n",
       "      <td>8</td>\n",
       "    </tr>\n",
       "    <tr>\n",
       "      <th>46</th>\n",
       "      <td>Vermont</td>\n",
       "      <td>8</td>\n",
       "    </tr>\n",
       "    <tr>\n",
       "      <th>22</th>\n",
       "      <td>Massachusetts</td>\n",
       "      <td>8</td>\n",
       "    </tr>\n",
       "    <tr>\n",
       "      <th>7</th>\n",
       "      <td>Delaware</td>\n",
       "      <td>8</td>\n",
       "    </tr>\n",
       "    <tr>\n",
       "      <th>27</th>\n",
       "      <td>Montana</td>\n",
       "      <td>6</td>\n",
       "    </tr>\n",
       "    <tr>\n",
       "      <th>29</th>\n",
       "      <td>Nevada</td>\n",
       "      <td>5</td>\n",
       "    </tr>\n",
       "    <tr>\n",
       "      <th>11</th>\n",
       "      <td>Guam</td>\n",
       "      <td>5</td>\n",
       "    </tr>\n",
       "    <tr>\n",
       "      <th>37</th>\n",
       "      <td>Oklahoma</td>\n",
       "      <td>4</td>\n",
       "    </tr>\n",
       "    <tr>\n",
       "      <th>42</th>\n",
       "      <td>South Dakota</td>\n",
       "      <td>4</td>\n",
       "    </tr>\n",
       "    <tr>\n",
       "      <th>1</th>\n",
       "      <td>Alaska</td>\n",
       "      <td>4</td>\n",
       "    </tr>\n",
       "    <tr>\n",
       "      <th>51</th>\n",
       "      <td>Wyoming</td>\n",
       "      <td>3</td>\n",
       "    </tr>\n",
       "    <tr>\n",
       "      <th>35</th>\n",
       "      <td>North Dakota</td>\n",
       "      <td>2</td>\n",
       "    </tr>\n",
       "    <tr>\n",
       "      <th>25</th>\n",
       "      <td>Mississippi</td>\n",
       "      <td>1</td>\n",
       "    </tr>\n",
       "    <tr>\n",
       "      <th>8</th>\n",
       "      <td>District of Columbia</td>\n",
       "      <td>1</td>\n",
       "    </tr>\n",
       "  </tbody>\n",
       "</table>\n",
       "</div>"
      ],
      "text/plain": [
       "                   state  site_id_with_pcr\n",
       "33              New York               138\n",
       "4             California                83\n",
       "26              Missouri                81\n",
       "14              Illinois                79\n",
       "36                  Ohio                79\n",
       "23              Michigan                75\n",
       "50             Wisconsin                65\n",
       "5               Colorado                64\n",
       "34        North Carolina                53\n",
       "47              Virginia                46\n",
       "38                Oregon                42\n",
       "19             Louisiana                40\n",
       "39          Pennsylvania                37\n",
       "24             Minnesota                35\n",
       "45                  Utah                33\n",
       "44                 Texas                30\n",
       "15               Indiana                27\n",
       "48            Washington                26\n",
       "20                 Maine                24\n",
       "49         West Virginia                24\n",
       "13                 Idaho                21\n",
       "10               Georgia                21\n",
       "3               Arkansas                21\n",
       "18              Kentucky                20\n",
       "28              Nebraska                19\n",
       "9                Florida                18\n",
       "41        South Carolina                16\n",
       "2                Arizona                14\n",
       "21              Maryland                13\n",
       "30         New Hampshire                13\n",
       "17                Kansas                13\n",
       "6            Connecticut                13\n",
       "32            New Mexico                12\n",
       "12                Hawaii                11\n",
       "16                  Iowa                11\n",
       "43             Tennessee                 9\n",
       "0                Alabama                 9\n",
       "31            New Jersey                 9\n",
       "40          Rhode Island                 8\n",
       "46               Vermont                 8\n",
       "22         Massachusetts                 8\n",
       "7               Delaware                 8\n",
       "27               Montana                 6\n",
       "29                Nevada                 5\n",
       "11                  Guam                 5\n",
       "37              Oklahoma                 4\n",
       "42          South Dakota                 4\n",
       "1                 Alaska                 4\n",
       "51               Wyoming                 3\n",
       "35          North Dakota                 2\n",
       "25           Mississippi                 1\n",
       "8   District of Columbia                 1"
      ]
     },
     "execution_count": 8,
     "metadata": {},
     "output_type": "execute_result"
    }
   ],
   "source": [
    "unique_df = nat_log.groupby('State').nunique().reset_index()\n",
    "unique_df = unique_df[['State', 'site_id_with_pcr']].sort_values('site_id_with_pcr', ascending=False)\n",
    "unique_df.rename(columns={\"State\":\"state\"}, inplace=True)\n",
    "unique_df"
   ]
  },
  {
   "cell_type": "markdown",
   "id": "d2466202-e21e-4874-9658-d48b1c7c4660",
   "metadata": {},
   "source": [
    "## Cleaning"
   ]
  },
  {
   "cell_type": "markdown",
   "id": "7f199e66-1437-4cab-9aed-d0149719180c",
   "metadata": {},
   "source": [
    "Cleaning and shaping two different datasets:\n",
    "- ww_index dataset (nat_log)\n",
    "- dataset with cases and geographies info (cases)"
   ]
  },
  {
   "cell_type": "markdown",
   "id": "aab4d8f0-be94-40f6-a4be-3b9c3d76acb0",
   "metadata": {},
   "source": [
    "### Index dataset shaping\n",
    "\n",
    "#### National medians"
   ]
  },
  {
   "cell_type": "code",
   "execution_count": 9,
   "id": "d75bdef6-f132-4795-bd6e-368fc1bfe649",
   "metadata": {},
   "outputs": [
    {
     "data": {
      "text/html": [
       "<div>\n",
       "<style scoped>\n",
       "    .dataframe tbody tr th:only-of-type {\n",
       "        vertical-align: middle;\n",
       "    }\n",
       "\n",
       "    .dataframe tbody tr th {\n",
       "        vertical-align: top;\n",
       "    }\n",
       "\n",
       "    .dataframe thead th {\n",
       "        text-align: right;\n",
       "    }\n",
       "</style>\n",
       "<table border=\"1\" class=\"dataframe\">\n",
       "  <thead>\n",
       "    <tr style=\"text-align: right;\">\n",
       "      <th></th>\n",
       "      <th>week_end</th>\n",
       "      <th>ww_index_normed_ln_lin</th>\n",
       "    </tr>\n",
       "  </thead>\n",
       "  <tbody>\n",
       "    <tr>\n",
       "      <th>0</th>\n",
       "      <td>2021-01-06</td>\n",
       "      <td>6.747079</td>\n",
       "    </tr>\n",
       "    <tr>\n",
       "      <th>1</th>\n",
       "      <td>2021-01-13</td>\n",
       "      <td>6.031710</td>\n",
       "    </tr>\n",
       "  </tbody>\n",
       "</table>\n",
       "</div>"
      ],
      "text/plain": [
       "     week_end  ww_index_normed_ln_lin\n",
       "0  2021-01-06                6.747079\n",
       "1  2021-01-13                6.031710"
      ]
     },
     "execution_count": 9,
     "metadata": {},
     "output_type": "execute_result"
    }
   ],
   "source": [
    "# aggregate ww index dataset to produce national weekly medians\n",
    "national_medians_ln = nat_log.groupby('week_end')['ww_index_normed_ln_lin'].median().reset_index()\n",
    "national_medians_ln.head(2)"
   ]
  },
  {
   "cell_type": "code",
   "execution_count": 10,
   "id": "886187b8-5933-4b3e-b9ed-604d17e2bf87",
   "metadata": {},
   "outputs": [
    {
     "data": {
      "text/plain": [
       "<Axes: xlabel='week_end'>"
      ]
     },
     "execution_count": 10,
     "metadata": {},
     "output_type": "execute_result"
    },
    {
     "data": {
      "image/png": "[encoded data removed]",
      "text/plain": [
       "<Figure size 640x480 with 1 Axes>"
      ]
     },
     "metadata": {},
     "output_type": "display_data"
    }
   ],
   "source": [
    "national_medians_ln.plot(x='week_end', y='ww_index_normed_ln_lin')"
   ]
  },
  {
   "cell_type": "markdown",
   "id": "65d99b05-5b3e-4aa3-8185-4a4b53e67d51",
   "metadata": {},
   "source": [
    "#### Regional medians"
   ]
  },
  {
   "cell_type": "code",
   "execution_count": 11,
   "id": "adc72f74-438b-4669-ba42-236de3f27e9a",
   "metadata": {},
   "outputs": [
    {
     "data": {
      "text/html": [
       "<div>\n",
       "<style scoped>\n",
       "    .dataframe tbody tr th:only-of-type {\n",
       "        vertical-align: middle;\n",
       "    }\n",
       "\n",
       "    .dataframe tbody tr th {\n",
       "        vertical-align: top;\n",
       "    }\n",
       "\n",
       "    .dataframe thead th {\n",
       "        text-align: right;\n",
       "    }\n",
       "</style>\n",
       "<table border=\"1\" class=\"dataframe\">\n",
       "  <thead>\n",
       "    <tr style=\"text-align: right;\">\n",
       "      <th></th>\n",
       "      <th>week_end</th>\n",
       "      <th>us_census_region_modified</th>\n",
       "      <th>ww_index_normed_ln_lin</th>\n",
       "    </tr>\n",
       "  </thead>\n",
       "  <tbody>\n",
       "    <tr>\n",
       "      <th>0</th>\n",
       "      <td>2021-01-06</td>\n",
       "      <td>Midwest</td>\n",
       "      <td>5.506446</td>\n",
       "    </tr>\n",
       "    <tr>\n",
       "      <th>1</th>\n",
       "      <td>2021-01-06</td>\n",
       "      <td>Northeast</td>\n",
       "      <td>15.067255</td>\n",
       "    </tr>\n",
       "    <tr>\n",
       "      <th>2</th>\n",
       "      <td>2021-01-06</td>\n",
       "      <td>South</td>\n",
       "      <td>71.391086</td>\n",
       "    </tr>\n",
       "  </tbody>\n",
       "</table>\n",
       "</div>"
      ],
      "text/plain": [
       "     week_end us_census_region_modified  ww_index_normed_ln_lin\n",
       "0  2021-01-06                   Midwest                5.506446\n",
       "1  2021-01-06                 Northeast               15.067255\n",
       "2  2021-01-06                     South               71.391086"
      ]
     },
     "execution_count": 11,
     "metadata": {},
     "output_type": "execute_result"
    }
   ],
   "source": [
    "regional_medians_ln = nat_log.groupby(['week_end', 'us_census_region_modified'])['ww_index_normed_ln_lin'].median().reset_index()\n",
    "regional_medians_ln.head(3)"
   ]
  },
  {
   "cell_type": "markdown",
   "id": "1c22eae0-3450-4ec4-ac92-1b6bb820dbf3",
   "metadata": {},
   "source": [
    "#### State medians"
   ]
  },
  {
   "cell_type": "code",
   "execution_count": 12,
   "id": "af43065e-d3b0-4ecc-8937-c5792437e100",
   "metadata": {},
   "outputs": [
    {
     "data": {
      "text/html": [
       "<div>\n",
       "<style scoped>\n",
       "    .dataframe tbody tr th:only-of-type {\n",
       "        vertical-align: middle;\n",
       "    }\n",
       "\n",
       "    .dataframe tbody tr th {\n",
       "        vertical-align: top;\n",
       "    }\n",
       "\n",
       "    .dataframe thead th {\n",
       "        text-align: right;\n",
       "    }\n",
       "</style>\n",
       "<table border=\"1\" class=\"dataframe\">\n",
       "  <thead>\n",
       "    <tr style=\"text-align: right;\">\n",
       "      <th></th>\n",
       "      <th>week_end</th>\n",
       "      <th>State</th>\n",
       "      <th>ww_index_normed_ln_lin</th>\n",
       "    </tr>\n",
       "  </thead>\n",
       "  <tbody>\n",
       "    <tr>\n",
       "      <th>0</th>\n",
       "      <td>2021-01-06</td>\n",
       "      <td>California</td>\n",
       "      <td>10.820424</td>\n",
       "    </tr>\n",
       "    <tr>\n",
       "      <th>1</th>\n",
       "      <td>2021-01-06</td>\n",
       "      <td>Colorado</td>\n",
       "      <td>6.367984</td>\n",
       "    </tr>\n",
       "    <tr>\n",
       "      <th>2</th>\n",
       "      <td>2021-01-06</td>\n",
       "      <td>Massachusetts</td>\n",
       "      <td>18.722918</td>\n",
       "    </tr>\n",
       "  </tbody>\n",
       "</table>\n",
       "</div>"
      ],
      "text/plain": [
       "     week_end          State  ww_index_normed_ln_lin\n",
       "0  2021-01-06     California               10.820424\n",
       "1  2021-01-06       Colorado                6.367984\n",
       "2  2021-01-06  Massachusetts               18.722918"
      ]
     },
     "execution_count": 12,
     "metadata": {},
     "output_type": "execute_result"
    }
   ],
   "source": [
    "state_medians_ln = nat_log.groupby(['week_end', 'State'])['ww_index_normed_ln_lin'].median().reset_index()\n",
    "state_medians_ln.head(3)"
   ]
  },
  {
   "cell_type": "code",
   "execution_count": 13,
   "id": "b1a75122-8f42-4a1e-8593-a90ec6172adc",
   "metadata": {},
   "outputs": [
    {
     "data": {
      "text/plain": [
       "52"
      ]
     },
     "execution_count": 13,
     "metadata": {},
     "output_type": "execute_result"
    }
   ],
   "source": [
    "state_medians_ln.State.nunique()"
   ]
  },
  {
   "cell_type": "markdown",
   "id": "141b3d00-f8c5-4c5d-bd78-8a7b42e224c4",
   "metadata": {},
   "source": [
    "### Cases dataset shaping"
   ]
  },
  {
   "cell_type": "markdown",
   "id": "30b9d897-6a25-4777-9f3c-fa7464e553ad",
   "metadata": {},
   "source": [
    "Import cases dataset, view it, rename fields to match index dataset, filter to desired timeframe."
   ]
  },
  {
   "cell_type": "code",
   "execution_count": 14,
   "id": "85383e88-1c99-4610-a1dd-c375aaebdd60",
   "metadata": {},
   "outputs": [
    {
     "data": {
      "text/html": [
       "<div>\n",
       "<style scoped>\n",
       "    .dataframe tbody tr th:only-of-type {\n",
       "        vertical-align: middle;\n",
       "    }\n",
       "\n",
       "    .dataframe tbody tr th {\n",
       "        vertical-align: top;\n",
       "    }\n",
       "\n",
       "    .dataframe thead th {\n",
       "        text-align: right;\n",
       "    }\n",
       "</style>\n",
       "<table border=\"1\" class=\"dataframe\">\n",
       "  <thead>\n",
       "    <tr style=\"text-align: right;\">\n",
       "      <th></th>\n",
       "      <th>date_updated</th>\n",
       "      <th>state</th>\n",
       "      <th>start_date</th>\n",
       "      <th>end_date</th>\n",
       "      <th>tot_cases</th>\n",
       "      <th>new_cases</th>\n",
       "      <th>tot_deaths</th>\n",
       "      <th>new_deaths</th>\n",
       "      <th>new_historic_cases</th>\n",
       "      <th>new_historic_deaths</th>\n",
       "    </tr>\n",
       "  </thead>\n",
       "  <tbody>\n",
       "    <tr>\n",
       "      <th>0</th>\n",
       "      <td>2020-01-23</td>\n",
       "      <td>AK</td>\n",
       "      <td>2020-01-16</td>\n",
       "      <td>2020-01-22</td>\n",
       "      <td>0</td>\n",
       "      <td>0</td>\n",
       "      <td>0</td>\n",
       "      <td>0</td>\n",
       "      <td>0</td>\n",
       "      <td>0</td>\n",
       "    </tr>\n",
       "    <tr>\n",
       "      <th>1</th>\n",
       "      <td>2020-01-30</td>\n",
       "      <td>AK</td>\n",
       "      <td>2020-01-23</td>\n",
       "      <td>2020-01-29</td>\n",
       "      <td>0</td>\n",
       "      <td>0</td>\n",
       "      <td>0</td>\n",
       "      <td>0</td>\n",
       "      <td>0</td>\n",
       "      <td>0</td>\n",
       "    </tr>\n",
       "  </tbody>\n",
       "</table>\n",
       "</div>"
      ],
      "text/plain": [
       "  date_updated state  start_date    end_date  tot_cases  new_cases  \\\n",
       "0   2020-01-23    AK  2020-01-16  2020-01-22          0          0   \n",
       "1   2020-01-30    AK  2020-01-23  2020-01-29          0          0   \n",
       "\n",
       "   tot_deaths  new_deaths  new_historic_cases  new_historic_deaths  \n",
       "0           0           0                   0                    0  \n",
       "1           0           0                   0                    0  "
      ]
     },
     "execution_count": 14,
     "metadata": {},
     "output_type": "execute_result"
    }
   ],
   "source": [
    "cases.head(2)"
   ]
  },
  {
   "cell_type": "code",
   "execution_count": 15,
   "id": "49419f83-0c50-45df-b55a-89824d8dcd16",
   "metadata": {},
   "outputs": [
    {
     "data": {
      "text/plain": [
       "datetime.date(2023, 5, 10)"
      ]
     },
     "execution_count": 15,
     "metadata": {},
     "output_type": "execute_result"
    }
   ],
   "source": [
    "cases.end_date.max()"
   ]
  },
  {
   "cell_type": "code",
   "execution_count": 16,
   "id": "35f83e67-df71-4fd6-a9e4-fdf67156e236",
   "metadata": {},
   "outputs": [
    {
     "data": {
      "text/html": [
       "<div>\n",
       "<style scoped>\n",
       "    .dataframe tbody tr th:only-of-type {\n",
       "        vertical-align: middle;\n",
       "    }\n",
       "\n",
       "    .dataframe tbody tr th {\n",
       "        vertical-align: top;\n",
       "    }\n",
       "\n",
       "    .dataframe thead th {\n",
       "        text-align: right;\n",
       "    }\n",
       "</style>\n",
       "<table border=\"1\" class=\"dataframe\">\n",
       "  <thead>\n",
       "    <tr style=\"text-align: right;\">\n",
       "      <th></th>\n",
       "      <th>state</th>\n",
       "      <th>week_end</th>\n",
       "      <th>cases_new</th>\n",
       "    </tr>\n",
       "  </thead>\n",
       "  <tbody>\n",
       "    <tr>\n",
       "      <th>63</th>\n",
       "      <td>AK</td>\n",
       "      <td>2021-04-07</td>\n",
       "      <td>1208</td>\n",
       "    </tr>\n",
       "    <tr>\n",
       "      <th>64</th>\n",
       "      <td>AK</td>\n",
       "      <td>2021-04-14</td>\n",
       "      <td>1113</td>\n",
       "    </tr>\n",
       "  </tbody>\n",
       "</table>\n",
       "</div>"
      ],
      "text/plain": [
       "   state    week_end  cases_new\n",
       "63    AK  2021-04-07       1208\n",
       "64    AK  2021-04-14       1113"
      ]
     },
     "execution_count": 16,
     "metadata": {},
     "output_type": "execute_result"
    }
   ],
   "source": [
    "fields = ['state', 'end_date','new_cases']\n",
    "cases = cases[fields]\n",
    "cases = cases.rename(columns={\"end_date\": \"week_end\", \"new_cases\":\"cases_new\"})\n",
    "\n",
    "start_date = pd.to_datetime('2021-04-01').date()\n",
    "end_date = pd.to_datetime('2023-05-10').date()\n",
    "\n",
    "cases = cases[cases.week_end.between(start_date, end_date)]\n",
    "cases.head(2)"
   ]
  },
  {
   "cell_type": "markdown",
   "id": "e8d4ec97-3c75-461e-a2f7-898f89da2bfe",
   "metadata": {},
   "source": [
    "Filter state ontology / regions dataset to desired fields, then modify handling of territories."
   ]
  },
  {
   "cell_type": "code",
   "execution_count": 17,
   "id": "56096d63-3a09-4340-9e95-0151ef8ad817",
   "metadata": {},
   "outputs": [
    {
     "data": {
      "text/plain": [
       "60"
      ]
     },
     "execution_count": 17,
     "metadata": {},
     "output_type": "execute_result"
    }
   ],
   "source": [
    "cases.state.nunique()"
   ]
  },
  {
   "cell_type": "code",
   "execution_count": 18,
   "id": "14949cb3-8e91-4017-b8f0-4c5a75f4e80f",
   "metadata": {},
   "outputs": [
    {
     "data": {
      "text/html": [
       "<div>\n",
       "<style scoped>\n",
       "    .dataframe tbody tr th:only-of-type {\n",
       "        vertical-align: middle;\n",
       "    }\n",
       "\n",
       "    .dataframe tbody tr th {\n",
       "        vertical-align: top;\n",
       "    }\n",
       "\n",
       "    .dataframe thead th {\n",
       "        text-align: right;\n",
       "    }\n",
       "</style>\n",
       "<table border=\"1\" class=\"dataframe\">\n",
       "  <thead>\n",
       "    <tr style=\"text-align: right;\">\n",
       "      <th></th>\n",
       "      <th>state_name</th>\n",
       "      <th>us_census_region</th>\n",
       "    </tr>\n",
       "  </thead>\n",
       "  <tbody>\n",
       "    <tr>\n",
       "      <th>0</th>\n",
       "      <td>American Samoa</td>\n",
       "      <td>None</td>\n",
       "    </tr>\n",
       "    <tr>\n",
       "      <th>1</th>\n",
       "      <td>Guam</td>\n",
       "      <td>None</td>\n",
       "    </tr>\n",
       "    <tr>\n",
       "      <th>2</th>\n",
       "      <td>Northern Mariana Islands</td>\n",
       "      <td>None</td>\n",
       "    </tr>\n",
       "  </tbody>\n",
       "</table>\n",
       "</div>"
      ],
      "text/plain": [
       "                 state_name us_census_region\n",
       "0            American Samoa             None\n",
       "1                      Guam             None\n",
       "2  Northern Mariana Islands             None"
      ]
     },
     "execution_count": 18,
     "metadata": {},
     "output_type": "execute_result"
    }
   ],
   "source": [
    "regions.columns\n",
    "cols = ['state_name', 'us_census_region']\n",
    "regions = regions[cols]\n",
    "regions.head(3)"
   ]
  },
  {
   "cell_type": "code",
   "execution_count": 19,
   "id": "5686bd02-4625-47e7-8bf0-cf9204ef9306",
   "metadata": {},
   "outputs": [
    {
     "data": {
      "text/html": [
       "<div>\n",
       "<style scoped>\n",
       "    .dataframe tbody tr th:only-of-type {\n",
       "        vertical-align: middle;\n",
       "    }\n",
       "\n",
       "    .dataframe tbody tr th {\n",
       "        vertical-align: top;\n",
       "    }\n",
       "\n",
       "    .dataframe thead th {\n",
       "        text-align: right;\n",
       "    }\n",
       "</style>\n",
       "<table border=\"1\" class=\"dataframe\">\n",
       "  <thead>\n",
       "    <tr style=\"text-align: right;\">\n",
       "      <th></th>\n",
       "      <th>state_name</th>\n",
       "      <th>us_census_region_mod</th>\n",
       "    </tr>\n",
       "  </thead>\n",
       "  <tbody>\n",
       "    <tr>\n",
       "      <th>0</th>\n",
       "      <td>American Samoa</td>\n",
       "      <td>West</td>\n",
       "    </tr>\n",
       "    <tr>\n",
       "      <th>1</th>\n",
       "      <td>Guam</td>\n",
       "      <td>West</td>\n",
       "    </tr>\n",
       "    <tr>\n",
       "      <th>2</th>\n",
       "      <td>Northern Mariana Islands</td>\n",
       "      <td>None</td>\n",
       "    </tr>\n",
       "  </tbody>\n",
       "</table>\n",
       "</div>"
      ],
      "text/plain": [
       "                 state_name us_census_region_mod\n",
       "0            American Samoa                 West\n",
       "1                      Guam                 West\n",
       "2  Northern Mariana Islands                 None"
      ]
     },
     "execution_count": 19,
     "metadata": {},
     "output_type": "execute_result"
    }
   ],
   "source": [
    "def census_region_filters(df):\n",
    "    # Define a function to modify the us_census_region based on state_name\n",
    "    def modify_region(row):\n",
    "        if row['state_name'] in ['Guam', 'American Samoa', 'Commonwealth of the Northern Mariana Islands',\n",
    "                                 'Federated States of Micronesia', 'Marshall Islands', 'Republic of Palau']:\n",
    "            return 'West'\n",
    "        elif row['state_name'] in ['Puerto Rico', 'Virgin Islands']:\n",
    "            return 'Northeast'\n",
    "        else:\n",
    "            return row['us_census_region']\n",
    "\n",
    "    # Apply the function to the DataFrame\n",
    "    df['us_census_region_mod'] = df.apply(modify_region, axis=1)\n",
    "\n",
    "    return df\n",
    "\n",
    "regions = census_region_filters(regions).drop(columns=['us_census_region'])\n",
    "regions.head(3)"
   ]
  },
  {
   "cell_type": "markdown",
   "id": "c7e64910-f5e5-4f6f-b8d7-5912cb309bcf",
   "metadata": {},
   "source": [
    "Add in the abbreviations so regions can be joined to cases."
   ]
  },
  {
   "cell_type": "code",
   "execution_count": 20,
   "id": "e458410f-9540-4c10-a1f2-ca053dcba853",
   "metadata": {},
   "outputs": [
    {
     "data": {
      "text/html": [
       "<div>\n",
       "<style scoped>\n",
       "    .dataframe tbody tr th:only-of-type {\n",
       "        vertical-align: middle;\n",
       "    }\n",
       "\n",
       "    .dataframe tbody tr th {\n",
       "        vertical-align: top;\n",
       "    }\n",
       "\n",
       "    .dataframe thead th {\n",
       "        text-align: right;\n",
       "    }\n",
       "</style>\n",
       "<table border=\"1\" class=\"dataframe\">\n",
       "  <thead>\n",
       "    <tr style=\"text-align: right;\">\n",
       "      <th></th>\n",
       "      <th>juris_abbreviation</th>\n",
       "      <th>state</th>\n",
       "    </tr>\n",
       "  </thead>\n",
       "  <tbody>\n",
       "    <tr>\n",
       "      <th>0</th>\n",
       "      <td>AL</td>\n",
       "      <td>Alabama</td>\n",
       "    </tr>\n",
       "    <tr>\n",
       "      <th>1</th>\n",
       "      <td>AK</td>\n",
       "      <td>Alaska</td>\n",
       "    </tr>\n",
       "  </tbody>\n",
       "</table>\n",
       "</div>"
      ],
      "text/plain": [
       "  juris_abbreviation    state\n",
       "0                 AL  Alabama\n",
       "1                 AK   Alaska"
      ]
     },
     "execution_count": 20,
     "metadata": {},
     "output_type": "execute_result"
    }
   ],
   "source": [
    "abbrevs['juris_abbreviation'] = abbrevs['juris_abbreviation'].str.upper()\n",
    "abbrevs.drop(columns=['reporting_jurisdiction'],inplace=True)\n",
    "abbrevs.head(2)"
   ]
  },
  {
   "cell_type": "code",
   "execution_count": 21,
   "id": "d34f561b-391f-4145-8252-eb1f95bd0ba6",
   "metadata": {},
   "outputs": [
    {
     "data": {
      "text/html": [
       "<div>\n",
       "<style scoped>\n",
       "    .dataframe tbody tr th:only-of-type {\n",
       "        vertical-align: middle;\n",
       "    }\n",
       "\n",
       "    .dataframe tbody tr th {\n",
       "        vertical-align: top;\n",
       "    }\n",
       "\n",
       "    .dataframe thead th {\n",
       "        text-align: right;\n",
       "    }\n",
       "</style>\n",
       "<table border=\"1\" class=\"dataframe\">\n",
       "  <thead>\n",
       "    <tr style=\"text-align: right;\">\n",
       "      <th></th>\n",
       "      <th>us_census_region_mod</th>\n",
       "      <th>juris_abbreviation</th>\n",
       "      <th>state</th>\n",
       "    </tr>\n",
       "  </thead>\n",
       "  <tbody>\n",
       "    <tr>\n",
       "      <th>0</th>\n",
       "      <td>West</td>\n",
       "      <td>GU</td>\n",
       "      <td>Guam</td>\n",
       "    </tr>\n",
       "    <tr>\n",
       "      <th>1</th>\n",
       "      <td>South</td>\n",
       "      <td>AL</td>\n",
       "      <td>Alabama</td>\n",
       "    </tr>\n",
       "    <tr>\n",
       "      <th>2</th>\n",
       "      <td>West</td>\n",
       "      <td>AK</td>\n",
       "      <td>Alaska</td>\n",
       "    </tr>\n",
       "  </tbody>\n",
       "</table>\n",
       "</div>"
      ],
      "text/plain": [
       "  us_census_region_mod juris_abbreviation    state\n",
       "0                 West                 GU     Guam\n",
       "1                South                 AL  Alabama\n",
       "2                 West                 AK   Alaska"
      ]
     },
     "execution_count": 21,
     "metadata": {},
     "output_type": "execute_result"
    }
   ],
   "source": [
    "regions = pd.merge(regions, abbrevs, left_on='state_name', right_on='state').drop(columns=['state_name'])\n",
    "regions.head(3)"
   ]
  },
  {
   "cell_type": "code",
   "execution_count": 22,
   "id": "3c672636-8d8d-488c-ba8c-c4e3c254f4ec",
   "metadata": {},
   "outputs": [
    {
     "data": {
      "text/plain": [
       "52"
      ]
     },
     "execution_count": 22,
     "metadata": {},
     "output_type": "execute_result"
    }
   ],
   "source": [
    "regions.state.nunique()"
   ]
  },
  {
   "cell_type": "code",
   "execution_count": 23,
   "id": "41c78591-a445-41aa-bc04-02b799c971ab",
   "metadata": {},
   "outputs": [],
   "source": [
    "cases = pd.merge(cases, regions, left_on='state', right_on='juris_abbreviation')\n",
    "cases.drop(columns=['state_x'], inplace=True)"
   ]
  },
  {
   "cell_type": "code",
   "execution_count": 24,
   "id": "0baa382f-dc0e-4e83-b8ed-d9fb5cdc5c0c",
   "metadata": {},
   "outputs": [
    {
     "data": {
      "text/html": [
       "<div>\n",
       "<style scoped>\n",
       "    .dataframe tbody tr th:only-of-type {\n",
       "        vertical-align: middle;\n",
       "    }\n",
       "\n",
       "    .dataframe tbody tr th {\n",
       "        vertical-align: top;\n",
       "    }\n",
       "\n",
       "    .dataframe thead th {\n",
       "        text-align: right;\n",
       "    }\n",
       "</style>\n",
       "<table border=\"1\" class=\"dataframe\">\n",
       "  <thead>\n",
       "    <tr style=\"text-align: right;\">\n",
       "      <th></th>\n",
       "      <th>week_end</th>\n",
       "      <th>cases_new</th>\n",
       "      <th>us_census_region_mod</th>\n",
       "      <th>state_abbrev</th>\n",
       "      <th>state</th>\n",
       "    </tr>\n",
       "  </thead>\n",
       "  <tbody>\n",
       "    <tr>\n",
       "      <th>0</th>\n",
       "      <td>2021-04-07</td>\n",
       "      <td>1208</td>\n",
       "      <td>West</td>\n",
       "      <td>AK</td>\n",
       "      <td>Alaska</td>\n",
       "    </tr>\n",
       "    <tr>\n",
       "      <th>1</th>\n",
       "      <td>2021-04-14</td>\n",
       "      <td>1113</td>\n",
       "      <td>West</td>\n",
       "      <td>AK</td>\n",
       "      <td>Alaska</td>\n",
       "    </tr>\n",
       "    <tr>\n",
       "      <th>2</th>\n",
       "      <td>2021-04-21</td>\n",
       "      <td>1146</td>\n",
       "      <td>West</td>\n",
       "      <td>AK</td>\n",
       "      <td>Alaska</td>\n",
       "    </tr>\n",
       "    <tr>\n",
       "      <th>3</th>\n",
       "      <td>2021-04-28</td>\n",
       "      <td>1042</td>\n",
       "      <td>West</td>\n",
       "      <td>AK</td>\n",
       "      <td>Alaska</td>\n",
       "    </tr>\n",
       "    <tr>\n",
       "      <th>4</th>\n",
       "      <td>2021-05-05</td>\n",
       "      <td>731</td>\n",
       "      <td>West</td>\n",
       "      <td>AK</td>\n",
       "      <td>Alaska</td>\n",
       "    </tr>\n",
       "    <tr>\n",
       "      <th>...</th>\n",
       "      <td>...</td>\n",
       "      <td>...</td>\n",
       "      <td>...</td>\n",
       "      <td>...</td>\n",
       "      <td>...</td>\n",
       "    </tr>\n",
       "    <tr>\n",
       "      <th>5935</th>\n",
       "      <td>2023-04-12</td>\n",
       "      <td>158</td>\n",
       "      <td>West</td>\n",
       "      <td>WY</td>\n",
       "      <td>Wyoming</td>\n",
       "    </tr>\n",
       "    <tr>\n",
       "      <th>5936</th>\n",
       "      <td>2023-04-19</td>\n",
       "      <td>115</td>\n",
       "      <td>West</td>\n",
       "      <td>WY</td>\n",
       "      <td>Wyoming</td>\n",
       "    </tr>\n",
       "    <tr>\n",
       "      <th>5937</th>\n",
       "      <td>2023-04-26</td>\n",
       "      <td>140</td>\n",
       "      <td>West</td>\n",
       "      <td>WY</td>\n",
       "      <td>Wyoming</td>\n",
       "    </tr>\n",
       "    <tr>\n",
       "      <th>5938</th>\n",
       "      <td>2023-05-03</td>\n",
       "      <td>129</td>\n",
       "      <td>West</td>\n",
       "      <td>WY</td>\n",
       "      <td>Wyoming</td>\n",
       "    </tr>\n",
       "    <tr>\n",
       "      <th>5939</th>\n",
       "      <td>2023-05-10</td>\n",
       "      <td>366</td>\n",
       "      <td>West</td>\n",
       "      <td>WY</td>\n",
       "      <td>Wyoming</td>\n",
       "    </tr>\n",
       "  </tbody>\n",
       "</table>\n",
       "<p>5940 rows × 5 columns</p>\n",
       "</div>"
      ],
      "text/plain": [
       "        week_end  cases_new us_census_region_mod state_abbrev    state\n",
       "0     2021-04-07       1208                 West           AK   Alaska\n",
       "1     2021-04-14       1113                 West           AK   Alaska\n",
       "2     2021-04-21       1146                 West           AK   Alaska\n",
       "3     2021-04-28       1042                 West           AK   Alaska\n",
       "4     2021-05-05        731                 West           AK   Alaska\n",
       "...          ...        ...                  ...          ...      ...\n",
       "5935  2023-04-12        158                 West           WY  Wyoming\n",
       "5936  2023-04-19        115                 West           WY  Wyoming\n",
       "5937  2023-04-26        140                 West           WY  Wyoming\n",
       "5938  2023-05-03        129                 West           WY  Wyoming\n",
       "5939  2023-05-10        366                 West           WY  Wyoming\n",
       "\n",
       "[5940 rows x 5 columns]"
      ]
     },
     "execution_count": 24,
     "metadata": {},
     "output_type": "execute_result"
    }
   ],
   "source": [
    "cases.rename(columns={\"juris_abbreviation\":\"state_abbrev\", \"state_y\":\"state\"}, inplace=True)\n",
    "cases"
   ]
  },
  {
   "cell_type": "code",
   "execution_count": 25,
   "id": "dae9ca30-7b34-47a6-b414-fa1dc3e275af",
   "metadata": {},
   "outputs": [
    {
     "data": {
      "text/plain": [
       "us_census_region_mod\n",
       "South        1980\n",
       "West         1540\n",
       "Midwest      1430\n",
       "Northeast     990\n",
       "Name: count, dtype: int64"
      ]
     },
     "execution_count": 25,
     "metadata": {},
     "output_type": "execute_result"
    }
   ],
   "source": [
    "cases.us_census_region_mod.value_counts()"
   ]
  },
  {
   "cell_type": "code",
   "execution_count": 26,
   "id": "365bd963-8914-46c7-97e2-a01d4039cf1c",
   "metadata": {},
   "outputs": [
    {
     "data": {
      "text/plain": [
       "52"
      ]
     },
     "execution_count": 26,
     "metadata": {},
     "output_type": "execute_result"
    }
   ],
   "source": [
    "cases.state.nunique()"
   ]
  },
  {
   "cell_type": "markdown",
   "id": "a67bfbe6-1708-4ca8-88c2-d76ba1dad629",
   "metadata": {},
   "source": [
    "#### National cases"
   ]
  },
  {
   "cell_type": "code",
   "execution_count": 27,
   "id": "d73ce826-5f15-485a-874e-df9fdb18af10",
   "metadata": {},
   "outputs": [
    {
     "data": {
      "text/plain": [
       "<Axes: xlabel='week_end'>"
      ]
     },
     "execution_count": 27,
     "metadata": {},
     "output_type": "execute_result"
    },
    {
     "data": {
      "image/png": "[encoded data removed]",
      "text/plain": [
       "<Figure size 640x480 with 1 Axes>"
      ]
     },
     "metadata": {},
     "output_type": "display_data"
    }
   ],
   "source": [
    "national_cases = cases.groupby('week_end')['cases_new'].sum().reset_index()\n",
    "national_cases.plot(x='week_end', y='cases_new')"
   ]
  },
  {
   "cell_type": "markdown",
   "id": "6a78843a-d4e7-4f41-8e44-8f59c3853b20",
   "metadata": {},
   "source": [
    "#### Regional cases"
   ]
  },
  {
   "cell_type": "code",
   "execution_count": 28,
   "id": "07d4eb46-5413-4950-9599-85e44183af17",
   "metadata": {},
   "outputs": [
    {
     "data": {
      "text/html": [
       "<div>\n",
       "<style scoped>\n",
       "    .dataframe tbody tr th:only-of-type {\n",
       "        vertical-align: middle;\n",
       "    }\n",
       "\n",
       "    .dataframe tbody tr th {\n",
       "        vertical-align: top;\n",
       "    }\n",
       "\n",
       "    .dataframe thead th {\n",
       "        text-align: right;\n",
       "    }\n",
       "</style>\n",
       "<table border=\"1\" class=\"dataframe\">\n",
       "  <thead>\n",
       "    <tr style=\"text-align: right;\">\n",
       "      <th></th>\n",
       "      <th>week_end</th>\n",
       "      <th>us_census_region_mod</th>\n",
       "      <th>cases_new</th>\n",
       "    </tr>\n",
       "  </thead>\n",
       "  <tbody>\n",
       "    <tr>\n",
       "      <th>0</th>\n",
       "      <td>2021-04-07</td>\n",
       "      <td>Midwest</td>\n",
       "      <td>143728</td>\n",
       "    </tr>\n",
       "    <tr>\n",
       "      <th>1</th>\n",
       "      <td>2021-04-07</td>\n",
       "      <td>Northeast</td>\n",
       "      <td>118422</td>\n",
       "    </tr>\n",
       "  </tbody>\n",
       "</table>\n",
       "</div>"
      ],
      "text/plain": [
       "     week_end us_census_region_mod  cases_new\n",
       "0  2021-04-07              Midwest     143728\n",
       "1  2021-04-07            Northeast     118422"
      ]
     },
     "execution_count": 28,
     "metadata": {},
     "output_type": "execute_result"
    }
   ],
   "source": [
    "regional_cases = cases.groupby(['week_end','us_census_region_mod'])['cases_new'].sum().reset_index()\n",
    "regional_cases.head(2)"
   ]
  },
  {
   "cell_type": "markdown",
   "id": "7770c84e-0563-4633-813b-7e6d6aae7383",
   "metadata": {},
   "source": [
    "#### State cases"
   ]
  },
  {
   "cell_type": "code",
   "execution_count": 29,
   "id": "9281f1e0-6538-4070-823e-cb1ec13c5ea6",
   "metadata": {},
   "outputs": [
    {
     "data": {
      "text/html": [
       "<div>\n",
       "<style scoped>\n",
       "    .dataframe tbody tr th:only-of-type {\n",
       "        vertical-align: middle;\n",
       "    }\n",
       "\n",
       "    .dataframe tbody tr th {\n",
       "        vertical-align: top;\n",
       "    }\n",
       "\n",
       "    .dataframe thead th {\n",
       "        text-align: right;\n",
       "    }\n",
       "</style>\n",
       "<table border=\"1\" class=\"dataframe\">\n",
       "  <thead>\n",
       "    <tr style=\"text-align: right;\">\n",
       "      <th></th>\n",
       "      <th>week_end</th>\n",
       "      <th>state</th>\n",
       "      <th>cases_new</th>\n",
       "    </tr>\n",
       "  </thead>\n",
       "  <tbody>\n",
       "    <tr>\n",
       "      <th>0</th>\n",
       "      <td>2021-04-07</td>\n",
       "      <td>Alabama</td>\n",
       "      <td>2095</td>\n",
       "    </tr>\n",
       "    <tr>\n",
       "      <th>1</th>\n",
       "      <td>2021-04-07</td>\n",
       "      <td>Alaska</td>\n",
       "      <td>1208</td>\n",
       "    </tr>\n",
       "  </tbody>\n",
       "</table>\n",
       "</div>"
      ],
      "text/plain": [
       "     week_end    state  cases_new\n",
       "0  2021-04-07  Alabama       2095\n",
       "1  2021-04-07   Alaska       1208"
      ]
     },
     "execution_count": 29,
     "metadata": {},
     "output_type": "execute_result"
    }
   ],
   "source": [
    "state_cases = cases.groupby(['week_end','state'])['cases_new'].sum().reset_index()\n",
    "state_cases.head(2)"
   ]
  },
  {
   "cell_type": "code",
   "execution_count": 30,
   "id": "85417f2b-69b5-429c-9d90-3d9b67a271a2",
   "metadata": {},
   "outputs": [
    {
     "data": {
      "text/plain": [
       "0"
      ]
     },
     "execution_count": 30,
     "metadata": {},
     "output_type": "execute_result"
    }
   ],
   "source": [
    "len(state_cases[state_cases.state.isna()])"
   ]
  },
  {
   "cell_type": "markdown",
   "id": "7663ab09-6a12-4cb2-ba3f-992291fa1568",
   "metadata": {},
   "source": [
    "## National Correlations"
   ]
  },
  {
   "cell_type": "markdown",
   "id": "aed57208-badb-4a6f-b795-56af531085f1",
   "metadata": {},
   "source": [
    "### Shaping and merging NATIONAL datasets"
   ]
  },
  {
   "cell_type": "code",
   "execution_count": 31,
   "id": "6c9937b1-e2ba-46df-b4cc-6f6f5612e0e4",
   "metadata": {},
   "outputs": [
    {
     "data": {
      "text/html": [
       "<div>\n",
       "<style scoped>\n",
       "    .dataframe tbody tr th:only-of-type {\n",
       "        vertical-align: middle;\n",
       "    }\n",
       "\n",
       "    .dataframe tbody tr th {\n",
       "        vertical-align: top;\n",
       "    }\n",
       "\n",
       "    .dataframe thead th {\n",
       "        text-align: right;\n",
       "    }\n",
       "</style>\n",
       "<table border=\"1\" class=\"dataframe\">\n",
       "  <thead>\n",
       "    <tr style=\"text-align: right;\">\n",
       "      <th></th>\n",
       "      <th>week_end</th>\n",
       "      <th>ww_index_normed_ln_lin</th>\n",
       "    </tr>\n",
       "  </thead>\n",
       "  <tbody>\n",
       "    <tr>\n",
       "      <th>0</th>\n",
       "      <td>2021-01-06</td>\n",
       "      <td>6.747079</td>\n",
       "    </tr>\n",
       "    <tr>\n",
       "      <th>1</th>\n",
       "      <td>2021-01-13</td>\n",
       "      <td>6.031710</td>\n",
       "    </tr>\n",
       "  </tbody>\n",
       "</table>\n",
       "</div>"
      ],
      "text/plain": [
       "     week_end  ww_index_normed_ln_lin\n",
       "0  2021-01-06                6.747079\n",
       "1  2021-01-13                6.031710"
      ]
     },
     "execution_count": 31,
     "metadata": {},
     "output_type": "execute_result"
    }
   ],
   "source": [
    "national_medians_ln.head(2)"
   ]
  },
  {
   "cell_type": "code",
   "execution_count": 32,
   "id": "5ae026f8-ac53-45d8-ae45-3daf63e0bec1",
   "metadata": {},
   "outputs": [
    {
     "data": {
      "text/html": [
       "<div>\n",
       "<style scoped>\n",
       "    .dataframe tbody tr th:only-of-type {\n",
       "        vertical-align: middle;\n",
       "    }\n",
       "\n",
       "    .dataframe tbody tr th {\n",
       "        vertical-align: top;\n",
       "    }\n",
       "\n",
       "    .dataframe thead th {\n",
       "        text-align: right;\n",
       "    }\n",
       "</style>\n",
       "<table border=\"1\" class=\"dataframe\">\n",
       "  <thead>\n",
       "    <tr style=\"text-align: right;\">\n",
       "      <th></th>\n",
       "      <th>week_end</th>\n",
       "      <th>cases_new</th>\n",
       "    </tr>\n",
       "  </thead>\n",
       "  <tbody>\n",
       "    <tr>\n",
       "      <th>0</th>\n",
       "      <td>2021-04-07</td>\n",
       "      <td>472282</td>\n",
       "    </tr>\n",
       "    <tr>\n",
       "      <th>1</th>\n",
       "      <td>2021-04-14</td>\n",
       "      <td>510959</td>\n",
       "    </tr>\n",
       "  </tbody>\n",
       "</table>\n",
       "</div>"
      ],
      "text/plain": [
       "     week_end  cases_new\n",
       "0  2021-04-07     472282\n",
       "1  2021-04-14     510959"
      ]
     },
     "execution_count": 32,
     "metadata": {},
     "output_type": "execute_result"
    }
   ],
   "source": [
    "national_cases.head(2)"
   ]
  },
  {
   "cell_type": "code",
   "execution_count": 33,
   "id": "88d468e7-01da-464c-b5d0-77c2f9731edc",
   "metadata": {},
   "outputs": [
    {
     "name": "stdout",
     "output_type": "stream",
     "text": [
      "first non-zero week is: 2021-04-07 00:00:00\n"
     ]
    }
   ],
   "source": [
    "df_index_ln = national_medians_ln\n",
    "df_cases = national_cases\n",
    "\n",
    "# Convert 'week_end' to datetime for both datasets\n",
    "df_index_ln['week_end'] = pd.to_datetime(df_index_ln['week_end'])\n",
    "df_cases['week_end'] = pd.to_datetime(df_cases['week_end'])\n",
    "\n",
    "# Drop rows with NaN in 'ww_index_normed_ln_lin' or index_log10 from the index dataset\n",
    "df_index_ln.dropna(subset=['ww_index_normed_ln_lin'], inplace=True)\n",
    "\n",
    "# Find the first week where 'cases_new' is not zero\n",
    "first_non_zero_week = df_cases[df_cases['cases_new'] > 0]['week_end'].min()\n",
    "\n",
    "print(f\"first non-zero week is: {first_non_zero_week}\")\n",
    "\n",
    "# Filter both datasets to start from this week\n",
    "df_index_ln = df_index_ln[df_index_ln['week_end'] >= first_non_zero_week]\n",
    "df_cases = df_cases[df_cases['week_end'] >= first_non_zero_week]\n"
   ]
  },
  {
   "cell_type": "code",
   "execution_count": 34,
   "id": "48f56de5-3d42-459d-bfaf-208ffb9f94f7",
   "metadata": {},
   "outputs": [
    {
     "data": {
      "text/html": [
       "<div>\n",
       "<style scoped>\n",
       "    .dataframe tbody tr th:only-of-type {\n",
       "        vertical-align: middle;\n",
       "    }\n",
       "\n",
       "    .dataframe tbody tr th {\n",
       "        vertical-align: top;\n",
       "    }\n",
       "\n",
       "    .dataframe thead th {\n",
       "        text-align: right;\n",
       "    }\n",
       "</style>\n",
       "<table border=\"1\" class=\"dataframe\">\n",
       "  <thead>\n",
       "    <tr style=\"text-align: right;\">\n",
       "      <th></th>\n",
       "      <th>week_end</th>\n",
       "      <th>ww_index_normed_ln_lin</th>\n",
       "      <th>cases_new</th>\n",
       "    </tr>\n",
       "  </thead>\n",
       "  <tbody>\n",
       "    <tr>\n",
       "      <th>0</th>\n",
       "      <td>2021-04-07</td>\n",
       "      <td>2.460417</td>\n",
       "      <td>472282</td>\n",
       "    </tr>\n",
       "    <tr>\n",
       "      <th>1</th>\n",
       "      <td>2021-04-14</td>\n",
       "      <td>2.572996</td>\n",
       "      <td>510959</td>\n",
       "    </tr>\n",
       "  </tbody>\n",
       "</table>\n",
       "</div>"
      ],
      "text/plain": [
       "    week_end  ww_index_normed_ln_lin  cases_new\n",
       "0 2021-04-07                2.460417     472282\n",
       "1 2021-04-14                2.572996     510959"
      ]
     },
     "execution_count": 34,
     "metadata": {},
     "output_type": "execute_result"
    }
   ],
   "source": [
    "# Merge the datasets\n",
    "df_merged = pd.merge(df_index_ln, df_cases, on='week_end', how='inner')\n",
    "df_merged.head(2)"
   ]
  },
  {
   "cell_type": "markdown",
   "id": "e04e5a94-e364-476d-8c36-60f39f6baa0c",
   "metadata": {},
   "source": [
    "### Write national dataset"
   ]
  },
  {
   "cell_type": "code",
   "execution_count": 35,
   "id": "bbf6cb3b-bb4b-4c82-944c-fc04bf00c6ee",
   "metadata": {},
   "outputs": [],
   "source": [
    "from foundry.transforms import Dataset\n",
    "\n",
    "national_cases_index_public_data = Dataset.get(\"national_cases_index_public_data\")\n",
    "national_cases_index_public_data.write_table(df_merged)"
   ]
  },
  {
   "cell_type": "markdown",
   "id": "1cd633ad-380a-4dd0-b0fd-33bc47b97518",
   "metadata": {
    "toc-hr-collapsed": true
   },
   "source": [
    "### Compare national correlations"
   ]
  },
  {
   "cell_type": "markdown",
   "id": "afe45443-7b4b-478e-9878-7664b9936415",
   "metadata": {},
   "source": [
    "First I check the simple linear correlation of cases and indices with the Pearson correlation coeff."
   ]
  },
  {
   "cell_type": "code",
   "execution_count": 36,
   "id": "c8334119-6944-4c0a-9e78-13531f96b0fc",
   "metadata": {},
   "outputs": [
    {
     "name": "stdout",
     "output_type": "stream",
     "text": [
      "The Pearson correlation coefficient for nat log index is: 0.7862881222711726\n"
     ]
    }
   ],
   "source": [
    "# Calculate Pearson correlation\n",
    "correlation_ln = df_merged['ww_index_normed_ln_lin'].corr(df_merged['cases_new'])\n",
    "print(f\"The Pearson correlation coefficient for nat log index is: {correlation_ln}\")"
   ]
  },
  {
   "cell_type": "markdown",
   "id": "3793e5ee-f152-4617-95b6-7b14c7e4a5ad",
   "metadata": {},
   "source": [
    "There are other measures of correlation which are better suited to our use case since neither the cases nor index curve is linear.\n",
    "\n",
    "**Spearman Rank Correlation** in particular seems appropriate:\n",
    "This non-parametric measure does not assume a linear relationship between variables, instead, it assesses how well the relationship between two variables can be described using a monotonic function.\n",
    "\n",
    "A **monotonic function** is a mathematical function that either never increases or never decreases as its independent variable increases. In the context of statistics and correlation, when we say that the relationship between two variables can be described using a monotonic function, we mean that as one variable increases, the other variable either consistently increases or consistently decreases, but the relationship does not necessarily have to be linear.\n",
    "\n",
    "If our ww_index is indeed a good proxy for case counts, then we would expect to see a monotonic relationship between the index and cases."
   ]
  },
  {
   "cell_type": "code",
   "execution_count": 37,
   "id": "c95d44d1-8748-40c3-8aac-df35e16fcdfd",
   "metadata": {},
   "outputs": [
    {
     "name": "stdout",
     "output_type": "stream",
     "text": [
      "The Spearman correlation coefficient for nat log index is: 0.8263237382503438\n"
     ]
    }
   ],
   "source": [
    "# Calculate Spearman Rank Correlation\n",
    "spearman_correlation_ln = df_merged['ww_index_normed_ln_lin'].corr(df_merged['cases_new'], method='spearman')\n",
    "print(f\"The Spearman correlation coefficient for nat log index is: {spearman_correlation_ln}\")"
   ]
  },
  {
   "cell_type": "markdown",
   "id": "5b2e8b88-8d41-4521-ac8e-3347b1b9399f",
   "metadata": {},
   "source": [
    "**However**, we might expect there to be a lag in the relationship between the index and cases. For example, it has been proposed that increases in wastewater SC2 RNA concentration precede rises in cases.\n",
    "\n",
    "The following code tests a range of lags up to +/- 3 weeks."
   ]
  },
  {
   "cell_type": "markdown",
   "id": "4cc68a0b-3ab2-49d2-94aa-7aee8790562e",
   "metadata": {
    "tags": []
   },
   "source": [
    "#### Natural log Spearman lagged"
   ]
  },
  {
   "cell_type": "code",
   "execution_count": 38,
   "id": "af1811e6-adc5-4fbd-b1c0-efd7384504b6",
   "metadata": {},
   "outputs": [
    {
     "name": "stdout",
     "output_type": "stream",
     "text": [
      "Lag -3 weeks: Spearman correlation coefficient = 0.797\n",
      "Lag -2 weeks: Spearman correlation coefficient = 0.852\n",
      "Lag -1 weeks: Spearman correlation coefficient = 0.861\n",
      "Lag 0 weeks: Spearman correlation coefficient = 0.826\n",
      "Lag 1 weeks: Spearman correlation coefficient = 0.759\n",
      "Lag 2 weeks: Spearman correlation coefficient = 0.656\n",
      "Lag 3 weeks: Spearman correlation coefficient = 0.529\n"
     ]
    }
   ],
   "source": [
    "# time-lagged cross-correlation using Spearman's rank correlation\n",
    "max_lag = 3\n",
    "for lag in range(-max_lag, max_lag + 1):\n",
    "    shifted_cases = df_merged['cases_new'].shift(lag)\n",
    "    # Use 'spearman' instead of 'pearson' for the method parameter\n",
    "    correlation = df_merged['ww_index_normed_ln_lin'].corr(shifted_cases, method='spearman')\n",
    "    print(f\"Lag {lag} weeks: Spearman correlation coefficient = {round(correlation, 3)}\")"
   ]
  },
  {
   "cell_type": "code",
   "execution_count": 39,
   "id": "11ee86f4-ad67-4fd9-9b93-098e145abbf9",
   "metadata": {},
   "outputs": [
    {
     "data": {
      "text/plain": [
       "0    510959.0\n",
       "1    469691.0\n",
       "2    394716.0\n",
       "3    362593.0\n",
       "Name: cases_new, dtype: float64"
      ]
     },
     "execution_count": 39,
     "metadata": {},
     "output_type": "execute_result"
    }
   ],
   "source": [
    "shifted_cases = df_merged['cases_new'].shift(-1)\n",
    "shifted_cases.head(4)"
   ]
  },
  {
   "cell_type": "code",
   "execution_count": 40,
   "id": "fdb0dba3-8494-41d9-b36c-08aec633c525",
   "metadata": {},
   "outputs": [
    {
     "data": {
      "text/plain": [
       "0    472282\n",
       "1    510959\n",
       "2    469691\n",
       "3    394716\n",
       "Name: cases_new, dtype: int32"
      ]
     },
     "execution_count": 40,
     "metadata": {},
     "output_type": "execute_result"
    }
   ],
   "source": [
    "df_merged['cases_new'].head(4)"
   ]
  },
  {
   "cell_type": "markdown",
   "id": "4e8b8f6e-7a48-487d-9e35-12d08490eb99",
   "metadata": {},
   "source": [
    "From this result we can see that when the cases dataset is shifted back 1 to 2 weeks, it does slightly improve the correlation. This is nice since it supports that wastewater concentration rises precede cases."
   ]
  },
  {
   "cell_type": "markdown",
   "id": "547a05d5-689c-49b6-8ba2-216bea904758",
   "metadata": {
    "tags": []
   },
   "source": [
    "## Regional correlations"
   ]
  },
  {
   "cell_type": "code",
   "execution_count": 41,
   "id": "de8c52d1-fff0-479f-b126-2793c16dccab",
   "metadata": {},
   "outputs": [
    {
     "name": "stdout",
     "output_type": "stream",
     "text": [
      "first non-zero week is: 2021-04-07 00:00:00\n"
     ]
    },
    {
     "name": "stderr",
     "output_type": "stream",
     "text": [
      "/tmp/ipykernel_44758/536148132.py:20: SettingWithCopyWarning: \n",
      "A value is trying to be set on a copy of a slice from a DataFrame\n",
      "\n",
      "See the caveats in the documentation: https://pandas.pydata.org/pandas-docs/stable/user_guide/indexing.html#returning-a-view-versus-a-copy\n",
      "  df_index_ln.rename(columns={\"us_census_region_modified\":\"us_census_region_mod\"}, inplace=True)\n"
     ]
    }
   ],
   "source": [
    "df_index_ln = regional_medians_ln\n",
    "df_cases = regional_cases\n",
    "\n",
    "# Convert 'week_end' to datetime for both datasets\n",
    "df_index_ln['week_end'] = pd.to_datetime(df_index_ln['week_end'])\n",
    "df_cases['week_end'] = pd.to_datetime(df_cases['week_end'])\n",
    "\n",
    "# Drop rows with NaN in 'ww_index_normed_ln_lin' or index_log10 from the index dataset\n",
    "df_index_ln.dropna(subset=['ww_index_normed_ln_lin'], inplace=True)\n",
    "\n",
    "# Find the first week where 'cases_new' is not zero\n",
    "first_non_zero_week = df_cases[df_cases['cases_new'] > 0]['week_end'].min()\n",
    "\n",
    "print(f\"first non-zero week is: {first_non_zero_week}\")\n",
    "\n",
    "# Filter both datasets to start from this week\n",
    "df_index_ln = df_index_ln[df_index_ln['week_end'] >= first_non_zero_week]\n",
    "df_cases = df_cases[df_cases['week_end'] >= first_non_zero_week]\n",
    "\n",
    "df_index_ln.rename(columns={\"us_census_region_modified\":\"us_census_region_mod\"}, inplace=True)"
   ]
  },
  {
   "cell_type": "code",
   "execution_count": 42,
   "id": "398ab9fa-5b1a-4920-8c48-2a708da36fe2",
   "metadata": {},
   "outputs": [
    {
     "data": {
      "text/html": [
       "<div>\n",
       "<style scoped>\n",
       "    .dataframe tbody tr th:only-of-type {\n",
       "        vertical-align: middle;\n",
       "    }\n",
       "\n",
       "    .dataframe tbody tr th {\n",
       "        vertical-align: top;\n",
       "    }\n",
       "\n",
       "    .dataframe thead th {\n",
       "        text-align: right;\n",
       "    }\n",
       "</style>\n",
       "<table border=\"1\" class=\"dataframe\">\n",
       "  <thead>\n",
       "    <tr style=\"text-align: right;\">\n",
       "      <th></th>\n",
       "      <th>week_end</th>\n",
       "      <th>us_census_region_mod</th>\n",
       "      <th>ww_index_normed_ln_lin</th>\n",
       "      <th>cases_new</th>\n",
       "    </tr>\n",
       "  </thead>\n",
       "  <tbody>\n",
       "    <tr>\n",
       "      <th>0</th>\n",
       "      <td>2021-04-07</td>\n",
       "      <td>Midwest</td>\n",
       "      <td>1.827510</td>\n",
       "      <td>143728</td>\n",
       "    </tr>\n",
       "    <tr>\n",
       "      <th>1</th>\n",
       "      <td>2021-04-07</td>\n",
       "      <td>Northeast</td>\n",
       "      <td>13.133767</td>\n",
       "      <td>118422</td>\n",
       "    </tr>\n",
       "  </tbody>\n",
       "</table>\n",
       "</div>"
      ],
      "text/plain": [
       "    week_end us_census_region_mod  ww_index_normed_ln_lin  cases_new\n",
       "0 2021-04-07              Midwest                1.827510     143728\n",
       "1 2021-04-07            Northeast               13.133767     118422"
      ]
     },
     "execution_count": 42,
     "metadata": {},
     "output_type": "execute_result"
    }
   ],
   "source": [
    "# Merge the datasets\n",
    "df_regional = pd.merge(df_index_ln, df_cases, on=['week_end','us_census_region_mod'], how='left')\n",
    "df_regional.head(2)"
   ]
  },
  {
   "cell_type": "markdown",
   "id": "6caa49e3-01cf-459c-a7a0-817b1011f106",
   "metadata": {},
   "source": [
    "### write regional dataset"
   ]
  },
  {
   "cell_type": "code",
   "execution_count": 43,
   "id": "f41f9458-b4f8-476a-962e-c43cb98540fa",
   "metadata": {},
   "outputs": [],
   "source": [
    "from foundry.transforms import Dataset\n",
    "\n",
    "regional_cases_index_public_data = Dataset.get(\"regional_cases_index_public_data\")\n",
    "regional_cases_index_public_data.write_table(df_regional)"
   ]
  },
  {
   "cell_type": "markdown",
   "id": "365e7a7f-3cf5-4304-acf0-5deafe8714fc",
   "metadata": {},
   "source": [
    "### test correlations"
   ]
  },
  {
   "cell_type": "code",
   "execution_count": 44,
   "id": "cdd197c4-01a0-4127-93f5-3a74c720f76f",
   "metadata": {},
   "outputs": [
    {
     "name": "stdout",
     "output_type": "stream",
     "text": [
      "Spearman correlation coefficients for each region:\n",
      "us_census_region_mod\n",
      "Midwest      0.782188\n",
      "Northeast    0.720644\n",
      "South        0.821852\n",
      "West         0.820436\n",
      "dtype: float64\n"
     ]
    }
   ],
   "source": [
    "# Define a function to calculate Spearman correlation for a group\n",
    "def calculate_spearman_correlation(group):\n",
    "    correlation = group['ww_index_normed_ln_lin'].corr(group['cases_new'], method='spearman')\n",
    "    return correlation\n",
    "\n",
    "# Group the data by 'biobot_region' and apply the correlation calculation\n",
    "spearman_correlations = df_regional.groupby('us_census_region_mod').apply(calculate_spearman_correlation)\n",
    "\n",
    "# Print the Spearman correlation coefficient for each region\n",
    "print(\"Spearman correlation coefficients for each region:\")\n",
    "print(spearman_correlations)"
   ]
  },
  {
   "cell_type": "code",
   "execution_count": 45,
   "id": "4b6ec95e-a073-46f1-b066-ac9d2a6119e3",
   "metadata": {},
   "outputs": [
    {
     "name": "stdout",
     "output_type": "stream",
     "text": [
      "Spearman correlation coefficients for each region (shift=-3):\n",
      "us_census_region_mod\n",
      "Midwest      0.761878\n",
      "Northeast    0.828519\n",
      "South        0.807177\n",
      "West         0.821627\n",
      "dtype: float64\n",
      "Spearman correlation coefficients for each region (shift=-2):\n",
      "us_census_region_mod\n",
      "Midwest      0.815790\n",
      "Northeast    0.846219\n",
      "South        0.851630\n",
      "West         0.860518\n",
      "dtype: float64\n",
      "Spearman correlation coefficients for each region (shift=-1):\n",
      "us_census_region_mod\n",
      "Midwest      0.820693\n",
      "Northeast    0.803447\n",
      "South        0.863794\n",
      "West         0.866935\n",
      "dtype: float64\n",
      "Spearman correlation coefficients for each region (shift=0):\n",
      "us_census_region_mod\n",
      "Midwest      0.782188\n",
      "Northeast    0.720644\n",
      "South        0.821852\n",
      "West         0.820436\n",
      "dtype: float64\n"
     ]
    }
   ],
   "source": [
    "for shift in [-3,-2,-1, 0]:\n",
    "    # Define a function to calculate Spearman correlation for a group\n",
    "    def calculate_spearman_correlation(group):\n",
    "        shifted_cases = group['cases_new'].shift(shift)\n",
    "        correlation = group['ww_index_normed_ln_lin'].corr(shifted_cases, method='spearman')\n",
    "        return correlation\n",
    "\n",
    "    # Group the data by 'biobot_region' and apply the correlation calculation\n",
    "    spearman_correlations = df_regional.groupby('us_census_region_mod').apply(calculate_spearman_correlation)\n",
    "\n",
    "    # Print the Spearman correlation coefficient for each region\n",
    "    print(f\"Spearman correlation coefficients for each region (shift={shift}):\")\n",
    "    print(spearman_correlations)  "
   ]
  },
  {
   "cell_type": "markdown",
   "id": "e80b7850-60f7-47d7-b69f-ff6293ed6524",
   "metadata": {},
   "source": [
    "## State Correlations"
   ]
  },
  {
   "cell_type": "code",
   "execution_count": 46,
   "id": "fbd8575e-2b62-4bf1-9967-d5fbcffcb51d",
   "metadata": {},
   "outputs": [
    {
     "name": "stdout",
     "output_type": "stream",
     "text": [
      "first non-zero week is: 2021-04-07 00:00:00\n"
     ]
    },
    {
     "name": "stderr",
     "output_type": "stream",
     "text": [
      "/tmp/ipykernel_44758/2231776425.py:20: SettingWithCopyWarning: \n",
      "A value is trying to be set on a copy of a slice from a DataFrame\n",
      "\n",
      "See the caveats in the documentation: https://pandas.pydata.org/pandas-docs/stable/user_guide/indexing.html#returning-a-view-versus-a-copy\n",
      "  df_index_ln.rename(columns={\"us_census_region_modified\":\"us_census_region_mod\"}, inplace=True)\n"
     ]
    }
   ],
   "source": [
    "df_index_ln = state_medians_ln\n",
    "df_cases = state_cases\n",
    "\n",
    "# Convert 'week_end' to datetime for both datasets\n",
    "df_index_ln['week_end'] = pd.to_datetime(df_index_ln['week_end'])\n",
    "df_cases['week_end'] = pd.to_datetime(df_cases['week_end'])\n",
    "\n",
    "# Drop rows with NaN in 'ww_index_normed_ln_lin' or index_log10 from the index dataset\n",
    "df_index_ln.dropna(subset=['ww_index_normed_ln_lin'], inplace=True)\n",
    "\n",
    "# Find the first week where 'cases_new' is not zero\n",
    "first_non_zero_week = df_cases[df_cases['cases_new'] > 0]['week_end'].min()\n",
    "\n",
    "print(f\"first non-zero week is: {first_non_zero_week}\")\n",
    "\n",
    "# Filter both datasets to start from this week\n",
    "df_index_ln = df_index_ln[df_index_ln['week_end'] >= first_non_zero_week]\n",
    "df_cases = df_cases[df_cases['week_end'] >= first_non_zero_week]\n",
    "\n",
    "df_index_ln.rename(columns={\"us_census_region_modified\":\"us_census_region_mod\"}, inplace=True)"
   ]
  },
  {
   "cell_type": "code",
   "execution_count": 47,
   "id": "7b46405f-ea3f-4bcd-acbd-f4949e9eebd0",
   "metadata": {},
   "outputs": [
    {
     "data": {
      "text/html": [
       "<div>\n",
       "<style scoped>\n",
       "    .dataframe tbody tr th:only-of-type {\n",
       "        vertical-align: middle;\n",
       "    }\n",
       "\n",
       "    .dataframe tbody tr th {\n",
       "        vertical-align: top;\n",
       "    }\n",
       "\n",
       "    .dataframe thead th {\n",
       "        text-align: right;\n",
       "    }\n",
       "</style>\n",
       "<table border=\"1\" class=\"dataframe\">\n",
       "  <thead>\n",
       "    <tr style=\"text-align: right;\">\n",
       "      <th></th>\n",
       "      <th>week_end</th>\n",
       "      <th>ww_index_normed_ln_lin</th>\n",
       "      <th>state</th>\n",
       "      <th>cases_new</th>\n",
       "    </tr>\n",
       "  </thead>\n",
       "  <tbody>\n",
       "    <tr>\n",
       "      <th>0</th>\n",
       "      <td>2021-04-07</td>\n",
       "      <td>3.377615</td>\n",
       "      <td>Arizona</td>\n",
       "      <td>4424</td>\n",
       "    </tr>\n",
       "    <tr>\n",
       "      <th>1</th>\n",
       "      <td>2021-04-07</td>\n",
       "      <td>1.282358</td>\n",
       "      <td>California</td>\n",
       "      <td>19249</td>\n",
       "    </tr>\n",
       "  </tbody>\n",
       "</table>\n",
       "</div>"
      ],
      "text/plain": [
       "    week_end  ww_index_normed_ln_lin       state  cases_new\n",
       "0 2021-04-07                3.377615     Arizona       4424\n",
       "1 2021-04-07                1.282358  California      19249"
      ]
     },
     "execution_count": 47,
     "metadata": {},
     "output_type": "execute_result"
    }
   ],
   "source": [
    "# Merge the datasets\n",
    "df_states = pd.merge(df_index_ln, df_cases, left_on=['week_end','State'],right_on=['week_end','state'], how='left').drop(columns=['State'])\n",
    "df_states.head(2)"
   ]
  },
  {
   "cell_type": "code",
   "execution_count": 48,
   "id": "89b25a78-216a-4ec5-b73e-835f663f8d01",
   "metadata": {},
   "outputs": [
    {
     "data": {
      "text/html": [
       "<div>\n",
       "<style scoped>\n",
       "    .dataframe tbody tr th:only-of-type {\n",
       "        vertical-align: middle;\n",
       "    }\n",
       "\n",
       "    .dataframe tbody tr th {\n",
       "        vertical-align: top;\n",
       "    }\n",
       "\n",
       "    .dataframe thead th {\n",
       "        text-align: right;\n",
       "    }\n",
       "</style>\n",
       "<table border=\"1\" class=\"dataframe\">\n",
       "  <thead>\n",
       "    <tr style=\"text-align: right;\">\n",
       "      <th></th>\n",
       "      <th>week_end</th>\n",
       "      <th>ww_index_normed_ln_lin</th>\n",
       "      <th>state</th>\n",
       "      <th>cases_new</th>\n",
       "    </tr>\n",
       "  </thead>\n",
       "  <tbody>\n",
       "  </tbody>\n",
       "</table>\n",
       "</div>"
      ],
      "text/plain": [
       "Empty DataFrame\n",
       "Columns: [week_end, ww_index_normed_ln_lin, state, cases_new]\n",
       "Index: []"
      ]
     },
     "execution_count": 48,
     "metadata": {},
     "output_type": "execute_result"
    }
   ],
   "source": [
    "df_states[df_states.state.isna()]"
   ]
  },
  {
   "cell_type": "markdown",
   "id": "d6c7509e-8263-4e1c-bc53-fc630a0d5d3d",
   "metadata": {},
   "source": [
    "### write state dataset"
   ]
  },
  {
   "cell_type": "code",
   "execution_count": 49,
   "id": "47e66b31-2950-4a71-addb-48cb071db85d",
   "metadata": {},
   "outputs": [],
   "source": [
    "from foundry.transforms import Dataset\n",
    "\n",
    "state_cases_index_public_data = Dataset.get(\"state_cases_index_public_data\")\n",
    "state_cases_index_public_data.write_table(df_states)"
   ]
  },
  {
   "cell_type": "markdown",
   "id": "f9492cf9-2898-4d86-9159-4296e58c2113",
   "metadata": {},
   "source": [
    "### test correlations"
   ]
  },
  {
   "cell_type": "code",
   "execution_count": 50,
   "id": "64e6f740-3134-4f16-a5ad-0af57be49b63",
   "metadata": {},
   "outputs": [
    {
     "data": {
      "text/plain": [
       "array([[<Axes: title={'center': 'spearman_correlation'}>]], dtype=object)"
      ]
     },
     "execution_count": 50,
     "metadata": {},
     "output_type": "execute_result"
    },
    {
     "data": {
      "image/png": "[encoded data removed]",
      "text/plain": [
       "<Figure size 640x480 with 1 Axes>"
      ]
     },
     "metadata": {},
     "output_type": "display_data"
    }
   ],
   "source": [
    "\n",
    "# Define a function to calculate Spearman correlation for a group\n",
    "def calculate_spearman_correlation(group):\n",
    "    shifted_cases = group['cases_new'].shift(-1)\n",
    "    correlation = group['ww_index_normed_ln_lin'].corr(shifted_cases, method='spearman')\n",
    "    return pd.DataFrame({'state': [group.name], 'spearman_correlation': [round(correlation,3)]})\n",
    "\n",
    "# Group the data by 'state' and apply the correlation calculation\n",
    "state_correlations = df_states.groupby('state').apply(calculate_spearman_correlation).reset_index(drop=True)\n",
    "\n",
    "state_correlations = state_correlations.sort_values('spearman_correlation').dropna()\n",
    "state_correlations.hist()"
   ]
  },
  {
   "cell_type": "code",
   "execution_count": 51,
   "id": "e91d36fd-9b15-4c19-bfdd-4e61cac7133e",
   "metadata": {},
   "outputs": [
    {
     "data": {
      "text/html": [
       "<div>\n",
       "<style scoped>\n",
       "    .dataframe tbody tr th:only-of-type {\n",
       "        vertical-align: middle;\n",
       "    }\n",
       "\n",
       "    .dataframe tbody tr th {\n",
       "        vertical-align: top;\n",
       "    }\n",
       "\n",
       "    .dataframe thead th {\n",
       "        text-align: right;\n",
       "    }\n",
       "</style>\n",
       "<table border=\"1\" class=\"dataframe\">\n",
       "  <thead>\n",
       "    <tr style=\"text-align: right;\">\n",
       "      <th></th>\n",
       "      <th>state</th>\n",
       "      <th>spearman_correlation</th>\n",
       "      <th>site_id_with_pcr</th>\n",
       "    </tr>\n",
       "  </thead>\n",
       "  <tbody>\n",
       "    <tr>\n",
       "      <th>0</th>\n",
       "      <td>Texas</td>\n",
       "      <td>-0.126</td>\n",
       "      <td>30</td>\n",
       "    </tr>\n",
       "    <tr>\n",
       "      <th>1</th>\n",
       "      <td>Utah</td>\n",
       "      <td>0.242</td>\n",
       "      <td>33</td>\n",
       "    </tr>\n",
       "    <tr>\n",
       "      <th>2</th>\n",
       "      <td>New Mexico</td>\n",
       "      <td>0.264</td>\n",
       "      <td>12</td>\n",
       "    </tr>\n",
       "    <tr>\n",
       "      <th>3</th>\n",
       "      <td>Wyoming</td>\n",
       "      <td>0.318</td>\n",
       "      <td>3</td>\n",
       "    </tr>\n",
       "    <tr>\n",
       "      <th>4</th>\n",
       "      <td>Washington</td>\n",
       "      <td>0.363</td>\n",
       "      <td>26</td>\n",
       "    </tr>\n",
       "    <tr>\n",
       "      <th>5</th>\n",
       "      <td>Alaska</td>\n",
       "      <td>0.401</td>\n",
       "      <td>4</td>\n",
       "    </tr>\n",
       "    <tr>\n",
       "      <th>6</th>\n",
       "      <td>Hawaii</td>\n",
       "      <td>0.408</td>\n",
       "      <td>11</td>\n",
       "    </tr>\n",
       "    <tr>\n",
       "      <th>7</th>\n",
       "      <td>Mississippi</td>\n",
       "      <td>0.425</td>\n",
       "      <td>1</td>\n",
       "    </tr>\n",
       "    <tr>\n",
       "      <th>8</th>\n",
       "      <td>Iowa</td>\n",
       "      <td>0.455</td>\n",
       "      <td>11</td>\n",
       "    </tr>\n",
       "    <tr>\n",
       "      <th>9</th>\n",
       "      <td>Vermont</td>\n",
       "      <td>0.466</td>\n",
       "      <td>8</td>\n",
       "    </tr>\n",
       "    <tr>\n",
       "      <th>10</th>\n",
       "      <td>Alabama</td>\n",
       "      <td>0.494</td>\n",
       "      <td>9</td>\n",
       "    </tr>\n",
       "    <tr>\n",
       "      <th>11</th>\n",
       "      <td>Oklahoma</td>\n",
       "      <td>0.499</td>\n",
       "      <td>4</td>\n",
       "    </tr>\n",
       "    <tr>\n",
       "      <th>12</th>\n",
       "      <td>Kentucky</td>\n",
       "      <td>0.506</td>\n",
       "      <td>20</td>\n",
       "    </tr>\n",
       "    <tr>\n",
       "      <th>13</th>\n",
       "      <td>Delaware</td>\n",
       "      <td>0.519</td>\n",
       "      <td>8</td>\n",
       "    </tr>\n",
       "    <tr>\n",
       "      <th>14</th>\n",
       "      <td>Indiana</td>\n",
       "      <td>0.524</td>\n",
       "      <td>27</td>\n",
       "    </tr>\n",
       "    <tr>\n",
       "      <th>15</th>\n",
       "      <td>Idaho</td>\n",
       "      <td>0.557</td>\n",
       "      <td>21</td>\n",
       "    </tr>\n",
       "    <tr>\n",
       "      <th>16</th>\n",
       "      <td>Nebraska</td>\n",
       "      <td>0.560</td>\n",
       "      <td>19</td>\n",
       "    </tr>\n",
       "    <tr>\n",
       "      <th>17</th>\n",
       "      <td>Montana</td>\n",
       "      <td>0.565</td>\n",
       "      <td>6</td>\n",
       "    </tr>\n",
       "    <tr>\n",
       "      <th>18</th>\n",
       "      <td>West Virginia</td>\n",
       "      <td>0.587</td>\n",
       "      <td>24</td>\n",
       "    </tr>\n",
       "    <tr>\n",
       "      <th>19</th>\n",
       "      <td>Pennsylvania</td>\n",
       "      <td>0.610</td>\n",
       "      <td>37</td>\n",
       "    </tr>\n",
       "    <tr>\n",
       "      <th>20</th>\n",
       "      <td>Kansas</td>\n",
       "      <td>0.618</td>\n",
       "      <td>13</td>\n",
       "    </tr>\n",
       "    <tr>\n",
       "      <th>21</th>\n",
       "      <td>Illinois</td>\n",
       "      <td>0.638</td>\n",
       "      <td>79</td>\n",
       "    </tr>\n",
       "    <tr>\n",
       "      <th>22</th>\n",
       "      <td>Louisiana</td>\n",
       "      <td>0.643</td>\n",
       "      <td>40</td>\n",
       "    </tr>\n",
       "    <tr>\n",
       "      <th>23</th>\n",
       "      <td>North Dakota</td>\n",
       "      <td>0.652</td>\n",
       "      <td>2</td>\n",
       "    </tr>\n",
       "    <tr>\n",
       "      <th>24</th>\n",
       "      <td>New Jersey</td>\n",
       "      <td>0.653</td>\n",
       "      <td>9</td>\n",
       "    </tr>\n",
       "    <tr>\n",
       "      <th>25</th>\n",
       "      <td>Maine</td>\n",
       "      <td>0.663</td>\n",
       "      <td>24</td>\n",
       "    </tr>\n",
       "    <tr>\n",
       "      <th>26</th>\n",
       "      <td>South Dakota</td>\n",
       "      <td>0.673</td>\n",
       "      <td>4</td>\n",
       "    </tr>\n",
       "    <tr>\n",
       "      <th>27</th>\n",
       "      <td>Missouri</td>\n",
       "      <td>0.675</td>\n",
       "      <td>81</td>\n",
       "    </tr>\n",
       "    <tr>\n",
       "      <th>28</th>\n",
       "      <td>Connecticut</td>\n",
       "      <td>0.678</td>\n",
       "      <td>13</td>\n",
       "    </tr>\n",
       "    <tr>\n",
       "      <th>29</th>\n",
       "      <td>Florida</td>\n",
       "      <td>0.688</td>\n",
       "      <td>18</td>\n",
       "    </tr>\n",
       "    <tr>\n",
       "      <th>30</th>\n",
       "      <td>Tennessee</td>\n",
       "      <td>0.698</td>\n",
       "      <td>9</td>\n",
       "    </tr>\n",
       "    <tr>\n",
       "      <th>31</th>\n",
       "      <td>Arkansas</td>\n",
       "      <td>0.706</td>\n",
       "      <td>21</td>\n",
       "    </tr>\n",
       "    <tr>\n",
       "      <th>32</th>\n",
       "      <td>Nevada</td>\n",
       "      <td>0.707</td>\n",
       "      <td>5</td>\n",
       "    </tr>\n",
       "    <tr>\n",
       "      <th>33</th>\n",
       "      <td>Rhode Island</td>\n",
       "      <td>0.724</td>\n",
       "      <td>8</td>\n",
       "    </tr>\n",
       "    <tr>\n",
       "      <th>34</th>\n",
       "      <td>Minnesota</td>\n",
       "      <td>0.733</td>\n",
       "      <td>35</td>\n",
       "    </tr>\n",
       "    <tr>\n",
       "      <th>35</th>\n",
       "      <td>District of Columbia</td>\n",
       "      <td>0.743</td>\n",
       "      <td>1</td>\n",
       "    </tr>\n",
       "    <tr>\n",
       "      <th>36</th>\n",
       "      <td>Wisconsin</td>\n",
       "      <td>0.745</td>\n",
       "      <td>65</td>\n",
       "    </tr>\n",
       "    <tr>\n",
       "      <th>37</th>\n",
       "      <td>Virginia</td>\n",
       "      <td>0.749</td>\n",
       "      <td>46</td>\n",
       "    </tr>\n",
       "    <tr>\n",
       "      <th>38</th>\n",
       "      <td>South Carolina</td>\n",
       "      <td>0.751</td>\n",
       "      <td>16</td>\n",
       "    </tr>\n",
       "    <tr>\n",
       "      <th>39</th>\n",
       "      <td>New Hampshire</td>\n",
       "      <td>0.759</td>\n",
       "      <td>13</td>\n",
       "    </tr>\n",
       "    <tr>\n",
       "      <th>40</th>\n",
       "      <td>Guam</td>\n",
       "      <td>0.763</td>\n",
       "      <td>5</td>\n",
       "    </tr>\n",
       "    <tr>\n",
       "      <th>41</th>\n",
       "      <td>Massachusetts</td>\n",
       "      <td>0.776</td>\n",
       "      <td>8</td>\n",
       "    </tr>\n",
       "    <tr>\n",
       "      <th>42</th>\n",
       "      <td>Arizona</td>\n",
       "      <td>0.779</td>\n",
       "      <td>14</td>\n",
       "    </tr>\n",
       "    <tr>\n",
       "      <th>43</th>\n",
       "      <td>New York</td>\n",
       "      <td>0.794</td>\n",
       "      <td>138</td>\n",
       "    </tr>\n",
       "    <tr>\n",
       "      <th>44</th>\n",
       "      <td>Georgia</td>\n",
       "      <td>0.800</td>\n",
       "      <td>21</td>\n",
       "    </tr>\n",
       "    <tr>\n",
       "      <th>45</th>\n",
       "      <td>Michigan</td>\n",
       "      <td>0.800</td>\n",
       "      <td>75</td>\n",
       "    </tr>\n",
       "    <tr>\n",
       "      <th>46</th>\n",
       "      <td>California</td>\n",
       "      <td>0.844</td>\n",
       "      <td>83</td>\n",
       "    </tr>\n",
       "    <tr>\n",
       "      <th>47</th>\n",
       "      <td>Ohio</td>\n",
       "      <td>0.867</td>\n",
       "      <td>79</td>\n",
       "    </tr>\n",
       "    <tr>\n",
       "      <th>48</th>\n",
       "      <td>North Carolina</td>\n",
       "      <td>0.871</td>\n",
       "      <td>53</td>\n",
       "    </tr>\n",
       "    <tr>\n",
       "      <th>49</th>\n",
       "      <td>Maryland</td>\n",
       "      <td>0.886</td>\n",
       "      <td>13</td>\n",
       "    </tr>\n",
       "    <tr>\n",
       "      <th>50</th>\n",
       "      <td>Oregon</td>\n",
       "      <td>0.890</td>\n",
       "      <td>42</td>\n",
       "    </tr>\n",
       "    <tr>\n",
       "      <th>51</th>\n",
       "      <td>Colorado</td>\n",
       "      <td>0.929</td>\n",
       "      <td>64</td>\n",
       "    </tr>\n",
       "  </tbody>\n",
       "</table>\n",
       "</div>"
      ],
      "text/plain": [
       "                   state  spearman_correlation  site_id_with_pcr\n",
       "0                  Texas                -0.126                30\n",
       "1                   Utah                 0.242                33\n",
       "2             New Mexico                 0.264                12\n",
       "3                Wyoming                 0.318                 3\n",
       "4             Washington                 0.363                26\n",
       "5                 Alaska                 0.401                 4\n",
       "6                 Hawaii                 0.408                11\n",
       "7            Mississippi                 0.425                 1\n",
       "8                   Iowa                 0.455                11\n",
       "9                Vermont                 0.466                 8\n",
       "10               Alabama                 0.494                 9\n",
       "11              Oklahoma                 0.499                 4\n",
       "12              Kentucky                 0.506                20\n",
       "13              Delaware                 0.519                 8\n",
       "14               Indiana                 0.524                27\n",
       "15                 Idaho                 0.557                21\n",
       "16              Nebraska                 0.560                19\n",
       "17               Montana                 0.565                 6\n",
       "18         West Virginia                 0.587                24\n",
       "19          Pennsylvania                 0.610                37\n",
       "20                Kansas                 0.618                13\n",
       "21              Illinois                 0.638                79\n",
       "22             Louisiana                 0.643                40\n",
       "23          North Dakota                 0.652                 2\n",
       "24            New Jersey                 0.653                 9\n",
       "25                 Maine                 0.663                24\n",
       "26          South Dakota                 0.673                 4\n",
       "27              Missouri                 0.675                81\n",
       "28           Connecticut                 0.678                13\n",
       "29               Florida                 0.688                18\n",
       "30             Tennessee                 0.698                 9\n",
       "31              Arkansas                 0.706                21\n",
       "32                Nevada                 0.707                 5\n",
       "33          Rhode Island                 0.724                 8\n",
       "34             Minnesota                 0.733                35\n",
       "35  District of Columbia                 0.743                 1\n",
       "36             Wisconsin                 0.745                65\n",
       "37              Virginia                 0.749                46\n",
       "38        South Carolina                 0.751                16\n",
       "39         New Hampshire                 0.759                13\n",
       "40                  Guam                 0.763                 5\n",
       "41         Massachusetts                 0.776                 8\n",
       "42               Arizona                 0.779                14\n",
       "43              New York                 0.794               138\n",
       "44               Georgia                 0.800                21\n",
       "45              Michigan                 0.800                75\n",
       "46            California                 0.844                83\n",
       "47                  Ohio                 0.867                79\n",
       "48        North Carolina                 0.871                53\n",
       "49              Maryland                 0.886                13\n",
       "50                Oregon                 0.890                42\n",
       "51              Colorado                 0.929                64"
      ]
     },
     "execution_count": 51,
     "metadata": {},
     "output_type": "execute_result"
    }
   ],
   "source": [
    "state_correlations['state'] = state_correlations.state.astype('string')\n",
    "state_correlations = state_correlations.merge(unique_df, on='state', how='left')\n",
    "state_correlations"
   ]
  },
  {
   "cell_type": "code",
   "execution_count": 52,
   "id": "634cfcd5-f8fa-4e12-9885-aa8f662fb6ac",
   "metadata": {},
   "outputs": [
    {
     "data": {
      "text/plain": [
       "<seaborn.axisgrid.FacetGrid at 0x7ff878752490>"
      ]
     },
     "execution_count": 52,
     "metadata": {},
     "output_type": "execute_result"
    },
    {
     "data": {
      "image/png": "[encoded data removed]",
      "text/plain": [
       "<Figure size 500x500 with 1 Axes>"
      ]
     },
     "metadata": {},
     "output_type": "display_data"
    }
   ],
   "source": [
    "sns.lmplot(x='site_id_with_pcr', y='spearman_correlation',data=state_correlations)"
   ]
  },
  {
   "cell_type": "code",
   "execution_count": null,
   "id": "073e83b5-a5c9-4122-aecd-bd99c06b430b",
   "metadata": {},
   "outputs": [
    {
     "name": "stdout",
     "output_type": "stream",
     "text": [
      "Spearman correlation coefficients for each region (shift=-2):\n",
      "                                       state  spearman_correlation\n",
      "state                                                             \n",
      "Texas                0                 Texas             -0.108538\n",
      "Utah                 0                  Utah              0.198953\n",
      "Wyoming              0               Wyoming              0.256371\n",
      "Hawaii               0                Hawaii              0.307642\n",
      "New Mexico           0            New Mexico              0.311265\n",
      "Washington           0            Washington              0.327163\n",
      "Iowa                 0                  Iowa              0.405474\n",
      "Mississippi          0           Mississippi              0.427364\n",
      "Kentucky             0              Kentucky              0.446912\n",
      "Indiana              0               Indiana              0.484058\n",
      "Delaware             0              Delaware              0.486771\n",
      "Alaska               0                Alaska              0.489088\n",
      "North Dakota         0          North Dakota              0.512792\n",
      "Vermont              0               Vermont              0.520802\n",
      "Alabama              0               Alabama              0.533333\n",
      "South Dakota         0          South Dakota              0.548955\n",
      "Pennsylvania         0          Pennsylvania              0.558626\n",
      "Nebraska             0              Nebraska              0.564117\n",
      "Montana              0               Montana              0.570849\n",
      "Oklahoma             0              Oklahoma              0.592683\n",
      "Kansas               0                Kansas              0.612828\n",
      "Idaho                0                 Idaho              0.615559\n",
      "Missouri             0              Missouri              0.627184\n",
      "West Virginia        0         West Virginia              0.633805\n",
      "Nevada               0                Nevada              0.641196\n",
      "Rhode Island         0          Rhode Island              0.657669\n",
      "Connecticut          0           Connecticut              0.662658\n",
      "Maine                0                 Maine              0.668039\n",
      "Louisiana            0             Louisiana              0.674989\n",
      "New Jersey           0            New Jersey              0.676416\n",
      "Illinois             0              Illinois              0.685040\n",
      "Tennessee            0             Tennessee              0.702787\n",
      "Virginia             0              Virginia              0.714327\n",
      "Minnesota            0             Minnesota              0.717143\n",
      "Arkansas             0              Arkansas              0.719700\n",
      "South Carolina       0        South Carolina              0.727868\n",
      "New Hampshire        0         New Hampshire              0.728285\n",
      "Guam                 0                  Guam              0.735343\n",
      "Wisconsin            0             Wisconsin              0.746079\n",
      "Florida              0               Florida              0.780578\n",
      "District of Columbia 0  District of Columbia              0.785107\n",
      "Arizona              0               Arizona              0.797155\n",
      "Georgia              0               Georgia              0.814286\n",
      "New York             0              New York              0.814542\n",
      "Massachusetts        0         Massachusetts              0.825118\n",
      "Michigan             0              Michigan              0.826973\n",
      "Ohio                 0                  Ohio              0.846133\n",
      "California           0            California              0.856145\n",
      "Maryland             0              Maryland              0.858034\n",
      "North Carolina       0        North Carolina              0.866196\n",
      "Oregon               0                Oregon              0.870809\n",
      "Colorado             0              Colorado              0.892252\n",
      "Spearman correlation coefficients for each region (shift=-1):\n",
      "                                       state  spearman_correlation\n",
      "state                                                             \n",
      "Texas                0                 Texas             -0.125818\n",
      "Utah                 0                  Utah              0.242378\n",
      "New Mexico           0            New Mexico              0.264346\n",
      "Wyoming              0               Wyoming              0.318397\n",
      "Washington           0            Washington              0.362932\n",
      "Alaska               0                Alaska              0.400665\n",
      "Hawaii               0                Hawaii              0.408449\n",
      "Mississippi          0           Mississippi              0.424597\n",
      "Iowa                 0                  Iowa              0.454824\n",
      "Vermont              0               Vermont              0.465785\n",
      "Alabama              0               Alabama              0.494466\n",
      "Oklahoma             0              Oklahoma              0.499129\n",
      "Kentucky             0              Kentucky              0.505998\n",
      "Delaware             0              Delaware              0.519367\n",
      "Indiana              0               Indiana              0.523589\n",
      "Idaho                0                 Idaho              0.557375\n",
      "Nebraska             0              Nebraska              0.559650\n",
      "Montana              0               Montana              0.564882\n",
      "West Virginia        0         West Virginia              0.587385\n",
      "Pennsylvania         0          Pennsylvania              0.609640\n",
      "Kansas               0                Kansas              0.618409\n",
      "Illinois             0              Illinois              0.638473\n",
      "Louisiana            0             Louisiana              0.643375\n",
      "North Dakota         0          North Dakota              0.652419\n",
      "New Jersey           0            New Jersey              0.652544\n",
      "Maine                0                 Maine              0.663016\n",
      "South Dakota         0          South Dakota              0.672798\n",
      "Missouri             0              Missouri              0.674902\n",
      "Connecticut          0           Connecticut              0.677613\n",
      "Florida              0               Florida              0.688004\n",
      "Tennessee            0             Tennessee              0.697918\n",
      "Arkansas             0              Arkansas              0.706098\n",
      "Nevada               0                Nevada              0.706984\n",
      "Rhode Island         0          Rhode Island              0.724398\n",
      "Minnesota            0             Minnesota              0.732917\n",
      "District of Columbia 0  District of Columbia              0.743280\n",
      "Wisconsin            0             Wisconsin              0.745322\n",
      "Virginia             0              Virginia              0.748742\n",
      "South Carolina       0        South Carolina              0.750752\n",
      "New Hampshire        0         New Hampshire              0.758655\n",
      "Guam                 0                  Guam              0.763383\n",
      "Massachusetts        0         Massachusetts              0.775881\n",
      "Arizona              0               Arizona              0.778872\n",
      "New York             0              New York              0.794419\n",
      "Georgia              0               Georgia              0.799760\n",
      "Michigan             0              Michigan              0.799975\n",
      "California           0            California              0.844333\n",
      "Ohio                 0                  Ohio              0.866573\n",
      "North Carolina       0        North Carolina              0.871133\n",
      "Maryland             0              Maryland              0.885684\n",
      "Oregon               0                Oregon              0.889864\n",
      "Colorado             0              Colorado              0.929460\n"
     ]
    },
    {
     "data": {
      "image/png": "[encoded data removed]",
      "text/plain": [
       "<Figure size 640x480 with 1 Axes>"
      ]
     },
     "metadata": {},
     "output_type": "display_data"
    }
   ],
   "source": [
    "for shift in [-2,-1]:\n",
    "    # Define a function to calculate Spearman correlation for a group\n",
    "    def calculate_spearman_correlation(group):\n",
    "        shifted_cases = group['cases_new'].shift(shift)\n",
    "        correlation = group['ww_index_normed_ln_lin'].corr(shifted_cases, method='spearman')\n",
    "        return pd.DataFrame({'state': [group.name], 'spearman_correlation': [correlation]})\n",
    "\n",
    "    # Group the data by 'biobot_region' and apply the correlation calculation\n",
    "    spearman_correlations = df_states.groupby('state').apply(calculate_spearman_correlation)\n",
    "\n",
    "    # Print the Spearman correlation coefficient for each region\n",
    "    print(f\"Spearman correlation coefficients for each region (shift={shift}):\")\n",
    "    print(spearman_correlations.sort_values('spearman_correlation'))\n",
    "    spearman_correlations.hist()"
   ]
  },
  {
   "cell_type": "code",
   "execution_count": null,
   "id": "360af63c-4105-461b-84e4-14f701549062",
   "metadata": {},
   "outputs": [],
   "source": []
  }
 ],
 "metadata": {
  "kernelspec": {
   "display_name": "Python 3 (ipykernel)",
   "language": "python",
   "name": "python3"
  },
  "language_info": {
   "codemirror_mode": {
    "name": "ipython",
    "version": 3
   },
   "file_extension": ".py",
   "mimetype": "text/x-python",
   "name": "python",
   "nbconvert_exporter": "python",
   "pygments_lexer": "ipython3",
   "version": "3.9.18"
  }
 },
 "nbformat": 4,
 "nbformat_minor": 5
}
